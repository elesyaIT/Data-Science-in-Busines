{
 "cells": [
  {
   "cell_type": "markdown",
   "metadata": {
    "id": "XADT6MVBrOy5"
   },
   "source": [
    "# Урок 2. Профилирование пользователей. Сегментация аудитории: unsupervised learning (clustering, LDA/ARTM), supervised (multi/binary classification)#"
   ]
  },
  {
   "cell_type": "markdown",
   "metadata": {
    "id": "wL1r1HqurOy-"
   },
   "source": [
    "План занятия:\n",
    "\n",
    "1. задача сегментации аудитории\n",
    "2. тематическое моделирование - получаем эмбединги текстов\n",
    "3. решаем задачу профилирования аудитории новостного портала"
   ]
  },
  {
   "cell_type": "markdown",
   "metadata": {
    "id": "d8cUqrCNrOzD"
   },
   "source": [
    "Рассматривать мы все будем в контексте решения конкретной прикладной задачи - задачи оттока"
   ]
  },
  {
   "cell_type": "markdown",
   "metadata": {
    "id": "F_VY1K5erOzG"
   },
   "source": [
    "## Задача сегментации"
   ]
  },
  {
   "cell_type": "markdown",
   "metadata": {
    "id": "FJU8ZrfQrOzL"
   },
   "source": [
    "<img src='https://drive.google.com/uc?export=view&id=1fH4dMvgSLT1u9nGc3DCxOI3YGJIkh5dj' width=600>\n",
    "\n",
    "Разбиваем пользователей на группы, чем-то отличающиеся друг от друга.\n",
    "\n",
    "Или же:\n",
    "\n",
    "Сегментация клиентской базы — это способ повышения эффективности работы с пользователями путем их распределения по отдельным группам, или сегментам, в соответствии с их запросами и/или потребностями."
   ]
  },
  {
   "cell_type": "markdown",
   "metadata": {
    "id": "3ab9nEbwrOzO"
   },
   "source": [
    "## Виды сегментации"
   ]
  },
  {
   "cell_type": "markdown",
   "metadata": {
    "id": "ADpxFZztrOzQ"
   },
   "source": [
    "### **1. когда совершил первую покупку (сколько прошло с момента регистрации до момента покупки)**"
   ]
  },
  {
   "cell_type": "markdown",
   "metadata": {
    "id": "yRp4A5B3rOzS"
   },
   "source": [
    "К примеру, есть сервис по заказу пиццы. Вначале пользователю нужно научиться пользоваться этим ПО, затем нужно сделать первый заказ, а затем пользователь может приходить всё реже и реже, а затем он нас покидает (из-за проблем в сервисе или из-за невкусной пиццы) - это нормальный живой цикл общения.\n",
    "\n",
    "Это наблюдается в любой системе, где есть работа с клиентами.\n",
    "\n",
    "Особенно, это известно маркетингу: сначала сотрудники помогают клиенту разобраться в продукте, затем они его поддерживают на пути пользования продуктом, а затем они общаются с ним, дабы клиент не ушел.\n",
    "\n",
    "\n",
    "<img src='https://drive.google.com/uc?export=view&id=1wf6GFpfQNuxOGJ4xL0n4jb8hvVJjnTGF' width=600>"
   ]
  },
  {
   "cell_type": "markdown",
   "metadata": {
    "id": "LHV9BmIYrOzX"
   },
   "source": [
    "### **2. по психотипам**"
   ]
  },
  {
   "cell_type": "markdown",
   "metadata": {
    "id": "rbE4xoGprOzZ"
   },
   "source": [
    "Есть люди, которые делают покупки импульсивно, а есть те, которые всё тщательно обдумывают. И с ними нужно разговаривать по-разному.\n",
    "\n",
    "<img src='https://drive.google.com/uc?export=view&id=1BRkfhmL1lwxOewbJvw46q8vZnPCAEqAp' width=600>"
   ]
  },
  {
   "cell_type": "markdown",
   "metadata": {
    "id": "uYUCDZ4vrOzb"
   },
   "source": [
    "### **3. по платежам**"
   ]
  },
  {
   "cell_type": "markdown",
   "metadata": {
    "id": "UhInj6rQrOzc"
   },
   "source": [
    "Интерес к покупателям, которые приходят к нам раз в год и платят по три копейки и к покупателям, которые приходят каждую неделю и оставляют по 100р, совершенно разный.\n",
    "\n",
    " <img src='https://drive.google.com/uc?export=view&id=1-ggaCJCNNV-XyFT2_tHfdjlmYefO85i4' width=800>"
   ]
  },
  {
   "cell_type": "markdown",
   "metadata": {
    "id": "TtIORDwMrOzd"
   },
   "source": [
    "### **4. По эффективности взаимодействия (uplift)**"
   ]
  },
  {
   "cell_type": "markdown",
   "metadata": {
    "id": "rLAesnDRrOze"
   },
   "source": [
    "Актуально для телекома. \n",
    "\n",
    "Есть несколько групп клиентов:\n",
    "1. Лояльные - совершают покупку и без нашего взаимодействия и с ним\n",
    "2. Убеждаемые - совершат покупку только после нашего взаимодействия, без него не сделают покупку\n",
    "3. Потерянные - не совершат покупку никогда, хоть мы им позвоним, хоть и не будем звонить\n",
    "4. \"не беспокоить\" - совершат покупку, если мы их не будем тревожить, если потревожим, то потеряем покупателя.\n",
    "\n",
    "\n",
    "<img src='https://drive.google.com/uc?export=view&id=1L0TJ8fK3YxuAzc52lz5SE2bgbwLBoS2J' width=500>"
   ]
  },
  {
   "cell_type": "markdown",
   "metadata": {
    "id": "t5xN_7C2rOzg"
   },
   "source": [
    "### **5. по интересам**"
   ]
  },
  {
   "cell_type": "markdown",
   "metadata": {
    "id": "WIp6gV2jrOzg"
   },
   "source": [
    "Пример: если человек искал, где купить десткое питание, то можем ему порекомендовать купить и памперсы.\n",
    "\n",
    "<img src='https://drive.google.com/uc?export=view&id=1Ud1G7YC8eN8qxbCbidNhgd2e-EoEryfl' width=600>"
   ]
  },
  {
   "cell_type": "markdown",
   "metadata": {
    "id": "JyVCxFiSJj6p"
   },
   "source": [
    "Особенно выгодно профилировать пользователей по социальным сетям. Ведь любое действие и бездействие человека - это данные.\n",
    "- Подписались на страницу\n",
    "- Отписались от страницы\n",
    "- Лайкнули новость\n",
    "- Проигнорировали новость\n",
    "- Добавили в избранное\n",
    "- и т.д.\n",
    "\n",
    "От этого контента зависят рекламные компании, которые настраиваются на определенную группу пользователей и на вас (а если точнее, не на вас самих, а на образ, который вы создаете в сети)."
   ]
  },
  {
   "cell_type": "markdown",
   "metadata": {
    "id": "FbVhKsp7rOzi"
   },
   "source": [
    "И еще куча вариантов сегментирования, которое может быть полезно. \n",
    "\n",
    "Для чего полезно?\n",
    "\n",
    "1. понимание аудитории, способность описать основные группы пользователей и их интересы\n",
    "2. выявление сегментов с максимальной монетизацией\n",
    "3. выбор маркетинговой стратегии\n",
    "4. налаживание эффективного взаимодействия с пользователями"
   ]
  },
  {
   "cell_type": "markdown",
   "metadata": {
    "id": "aGcYzIw9rOzk"
   },
   "source": [
    "## Пример (новостной портал)"
   ]
  },
  {
   "cell_type": "markdown",
   "metadata": {
    "id": "UKaY4yHorOzl"
   },
   "source": [
    "Представим, что мы - компания-агрегатор новостей (новостной портал). И мы хотим построить модель прогнозирования оттока клиентов.\n",
    "\n",
    "У нас есть:\n",
    "\n",
    "1. читатели\n",
    "2. новости\n",
    "\n",
    "Для каждого пользователя мы можем за какой-то период (например, 1 день) достать из базы данных список прочитанных им новостей.\n",
    "\n",
    "Для каждой новости мы можем вытащить текст и метаинформацию.\n"
   ]
  },
  {
   "cell_type": "markdown",
   "metadata": {
    "id": "jn4aB_-tgFCP"
   },
   "source": [
    "<img src='https://drive.google.com/uc?export=view&id=1OLrm1Rx9VjRVHbBW25Gi_mfUjY-WhB3p' width=700>"
   ]
  },
  {
   "cell_type": "markdown",
   "metadata": {
    "id": "jsMPAW2irOzm"
   },
   "source": [
    "Нужно построить модель прогнозирования оттока. \n",
    "\n",
    "\n",
    "Нам нужны:\n",
    "\n",
    "1. векторное представление пользователя\n",
    "2. сегменты, описывающие интересы пользователя\n",
    "\n",
    "p.s. в контексте нашей задачи - это одно и то же"
   ]
  },
  {
   "cell_type": "markdown",
   "metadata": {
    "id": "ZRiIVCEtrOzo"
   },
   "source": [
    "Есть два очевидных варианта как это сделать:\n",
    "\n",
    "1. многоклассовая классификация\n",
    "    - **Проблема:**\n",
    "    для классификации нам нужно сначала разметить новости - привлечение ручного труда\n",
    "2. кластеризация документов с последующей попыткой их (кластера) интерпретировать"
   ]
  },
  {
   "cell_type": "markdown",
   "metadata": {
    "id": "TEzvMqgkrOzq"
   },
   "source": [
    "### Задача тематического моделирования (LDA)\n",
    "\n",
    "LDA - Latent Dirichlet allocation"
   ]
  },
  {
   "cell_type": "markdown",
   "metadata": {
    "id": "EybsiEEupOyS"
   },
   "source": [
    "Терминология:\n",
    "\n",
    "1. документ - коллекция слов \n",
    "2. тема - набор токенов (слов), совместно часто встречающихся в документах"
   ]
  },
  {
   "cell_type": "markdown",
   "metadata": {
    "id": "5T30512VrOzr"
   },
   "source": [
    "- на свете бывают темы (заранее неизвестные), которые отражают то, о чём могут быть части документа;\n",
    "- каждая тема – это распределение вероятностей на словах, т.е. мешок слов, из которого можно с разной вероятностью вытащить разные слова;\n",
    "\n",
    "<img src='https://drive.google.com/uc?export=view&id=10hJ_zkUHDK1-hAYcdxUix5r9Wyaik9TA' width=500>\n",
    "\n",
    "\n",
    "- каждый документ – это смесь тем, т.е. распределение вероятностей на темах, кубик, который можно кинуть *(тема искусства включает в себя не только слова балет и танцы, но и финансы, и кредиты)*; каждая тема в документе будет представлена в разных пропорциях (*если написал руководитель театра, то будет больше про танцы, а если написал министр культуры, то скорее про финансы, но везде говорим про искусство*)\n",
    "\n",
    "<img src='https://drive.google.com/uc?export=view&id=1o7Bvl_2sscs3ldpxo4faqXCDIqTbkO8H' width=500>\n",
    "\n",
    "- процесс порождения каждого слова состоит в том, чтобы сначала выбрать тему по распределению, соответствующему документу, а затем выбрать слово из распределения, соответствующего этой теме."
   ]
  },
  {
   "cell_type": "markdown",
   "metadata": {
    "id": "rizKW5tyzyNF"
   },
   "source": [
    "Предположим, что у нас есть несколько предложений:\n",
    "\n",
    "1. I like to eat broccoli and bananas.\n",
    "2. I ate a banana and spinach smoothie for breakfast.\n",
    "3. Chinchillas and kittens are cute.\n",
    "4. My sister adopted a kitten yesterday.\n",
    "5. Look at this cute hamster munching on a piece of broccoli.\n",
    "\n",
    "LDA - это метод для автоматического поиска тем, которые есть в предложениях. К примеру, если мы передадим эти предложения в модель и попросим найти 2 темы, то может получить что-то подобное:\n",
    "\n",
    "- Предложения 1 и 2: 100% Topic A\n",
    "- Предложения 3 и 4: 100% Topic B\n",
    "- Предложение 5: 60% Topic A, 40% Topic B\n",
    "\n",
    "<br>\n",
    "\n",
    "- Topic A: 30% broccoli, 15% bananas, 10% breakfast, 10% munching, … (уже сейчас можем понять, что topic A о еде)\n",
    "- Topic B: 20% chinchillas, 20% kittens, 20% cute, 15% hamster, … (topic B о милых животных)\n",
    "\n",
    "Ну и конечно же вопрос, как LDA это делает?"
   ]
  },
  {
   "cell_type": "markdown",
   "metadata": {
    "id": "jgt0KD1mrOzt"
   },
   "source": [
    "Вероятностные модели удобно понимать и представлять в виде порождающих процессов (generative processes), когда мы последовательно описываем, как порождается одна единица данных, вводя по ходу дела все вероятностные предположения, которые мы в этой модели делаем. Соответственно, порождающий процесс для LDA должен последовательно описывать, как мы порождаем каждое слово каждого документа. И вот как это происходит:"
   ]
  },
  {
   "cell_type": "markdown",
   "metadata": {
    "id": "YNtuHHHLrOzu"
   },
   "source": [
    "\n",
    "0. Выбрать количество тем N\n",
    "1. Случайно присвоить каждое слово в каждом документе к одной из N тем\n",
    "    * *Заметьте, что это рандомное присвоение уже даёт распределение тем в документах и распределение слов во всех темах (но конечно не самого лучшего качества)*\n",
    "\n",
    "2. Для каждого слова $w$ в документе $d$:\n",
    " * И для каждой темы $t$, посчитать две вероятности:\n",
    "    * *предположить, что все присвоенные темы документы правильные за исключением одной, с которой работаем*\n",
    "    1. $p(t|d)$ - Вероятность слов в документе, которые присвоены к теме\n",
    "    2. $p(w|t)$ - Вероятность принадлежности слов из всех документов к теме $t$\n",
    " * Переопределить тему слова $w$, с помощью вероятности $p(t|d)*p(w|t)$ (опираясь на нашу модель, это вероятность того, что тема $t$ генерирует слово $w$)\n",
    "\n",
    "3. В конечном счете достигнется стабильное состояние, когда присвоения имеют смысл."
   ]
  },
  {
   "cell_type": "markdown",
   "metadata": {
    "id": "tWs1xKLOhZ2y"
   },
   "source": [
    "Бросаем кубик, у которого столько сторон, сколько слов в словаре. Но определенные стороны кубика утяжеленные, то есть он будет чаще на них падать.\n",
    "\n",
    "Например, если тема спорт, то слова \"футбол\", \"вратарь\", \"мяч\" будут попадаться гораздо чаще внутри этой темы."
   ]
  },
  {
   "cell_type": "markdown",
   "metadata": {
    "id": "PdKBkWf3rOzv"
   },
   "source": [
    "<img src='https://drive.google.com/uc?export=view&id=1h4qc01naiyUZA0Q63bcv64ZnC2AKwbgp' width=600>"
   ]
  },
  {
   "cell_type": "markdown",
   "metadata": {
    "id": "BuNe8090rOzw"
   },
   "source": [
    "Таким образом, любой текст порождается из распределений, путем подбрасывания кубиков.\n",
    "\n",
    "  ист. https://habr.com/ru/company/surfingbird/blog/230103/"
   ]
  },
  {
   "cell_type": "markdown",
   "metadata": {
    "id": "1igv07-4rO0E"
   },
   "source": [
    "1. условное распределение на множестве терминов, p(w|t). вероятность того, что слово w принадлежит теме t.\n",
    "2. тематический профиль документа - условное распределение тем p(t|d). вероятность того, что тема t принадлежит документу d.\n",
    "3. условное распределение слов в документах - p(w|d). вероятность, что слово w есть в документе d.\n",
    "\n",
    "\n",
    "Тематическая модель позволяет нам получить p(w|t), p(t|d) по известным p(w|d)"
   ]
  },
  {
   "cell_type": "markdown",
   "metadata": {
    "id": "nUO75KMjrO0E"
   },
   "source": [
    "<img src='https://drive.google.com/uc?export=view&id=1pd-ieIcQCF11xOwXbRt2v5Q1LRE2d1yV' width=600>\n",
    "\n",
    "Когда начинаем решать задачу, то нам известно p(w|d). И нам не известно с какой вероятностью встречаются слова в темах и какие темы находятся в нашем документе и с какой вероятностью.\n",
    "Есть проблема, что мы не знаем, какое количество тем есть в нашей задаче - это гиперпараметр."
   ]
  },
  {
   "cell_type": "markdown",
   "metadata": {
    "id": "_twkt6cTrO0K"
   },
   "source": [
    "### Переходим к практике\n",
    "\n",
    "\n",
    "Вспомним, какие задачи перед нами стоят:\n",
    "Основная - представление характеристик пользователя по списку статей, которые он читал.\n",
    "1. Взять статьи и превратить их в темы.\n",
    "2. Взять темы и превратить их в вектор, описывающий пользователя.\n"
   ]
  },
  {
   "cell_type": "code",
   "execution_count": 1,
   "metadata": {
    "id": "ajg1uezArO0K"
   },
   "outputs": [],
   "source": [
    "import pandas as pd"
   ]
  },
  {
   "cell_type": "markdown",
   "metadata": {
    "id": "Bqobr0EsrO0L"
   },
   "source": [
    "Наши новости"
   ]
  },
  {
   "cell_type": "code",
   "execution_count": 2,
   "metadata": {
    "colab": {
     "base_uri": "https://localhost:8080/"
    },
    "id": "f_CGsD2geSGb",
    "outputId": "cde8f30b-4c50-4453-8347-cfce8df5a3e5"
   },
   "outputs": [
    {
     "name": "stdout",
     "output_type": "stream",
     "text": [
      "--2022-03-29 16:36:17--  https://docs.google.com/uc?export=download&confirm=t&id=1zrdSHN2tq_Hj3YdbwlM3jk87Oct42XpR\n",
      "Распознаётся docs.google.com (docs.google.com)... 142.250.74.110, 2a00:1450:400f:803::200e\n",
      "Подключение к docs.google.com (docs.google.com)|142.250.74.110|:443... соединение установлено.\n",
      "HTTP-запрос отправлен. Ожидание ответа... 303 See Other\n",
      "Адрес: https://doc-0s-c0-docs.googleusercontent.com/docs/securesc/ha0ro937gcuc7l7deffksulhg5h7mbp1/ufu5sdild353lg35in569s9k1chj2tle/1648560975000/14904333240138417226/*/1zrdSHN2tq_Hj3YdbwlM3jk87Oct42XpR?e=download [переход]\n",
      "Предупреждение: в HTTP шаблоны не поддерживаются.\n",
      "--2022-03-29 16:36:17--  https://doc-0s-c0-docs.googleusercontent.com/docs/securesc/ha0ro937gcuc7l7deffksulhg5h7mbp1/ufu5sdild353lg35in569s9k1chj2tle/1648560975000/14904333240138417226/*/1zrdSHN2tq_Hj3YdbwlM3jk87Oct42XpR?e=download\n",
      "Распознаётся doc-0s-c0-docs.googleusercontent.com (doc-0s-c0-docs.googleusercontent.com)... 142.250.74.65, 2a00:1450:400f:802::2001\n",
      "Подключение к doc-0s-c0-docs.googleusercontent.com (doc-0s-c0-docs.googleusercontent.com)|142.250.74.65|:443... соединение установлено.\n",
      "HTTP-запрос отправлен. Ожидание ответа... 200 OK\n",
      "Длина: 145159860 (138M) [text/csv]\n",
      "Сохранение в каталог: ««articles.csv»».\n",
      "\n",
      "articles.csv        100%[===================>] 138,43M  5,78MB/s    за 25s     \n",
      "\n",
      "2022-03-29 16:36:44 (5,47 MB/s) - «articles.csv» сохранён [145159860/145159860]\n",
      "\n"
     ]
    }
   ],
   "source": [
    "!wget --load-cookies /tmp/cookies.txt \"https://docs.google.com/uc?export=download&confirm=$(wget --quiet --save-cookies /tmp/cookies.txt --keep-session-cookies --no-check-certificate 'https://docs.google.com/uc?export=download&id=1zrdSHN2tq_Hj3YdbwlM3jk87Oct42XpR' -O- | sed -rn 's/.*confirm=([0-9A-Za-z_]+).*/\\1\\n/p')&id=1zrdSHN2tq_Hj3YdbwlM3jk87Oct42XpR\" -O articles.csv && rm -rf /tmp/cookies.txt "
   ]
  },
  {
   "cell_type": "code",
   "execution_count": 3,
   "metadata": {
    "colab": {
     "base_uri": "https://localhost:8080/",
     "height": 161
    },
    "id": "LNFHyPQHrO0M",
    "outputId": "f05eb7f3-4512-4292-d796-1864be1e1805"
   },
   "outputs": [
    {
     "name": "stdout",
     "output_type": "stream",
     "text": [
      "(27000, 2)\n"
     ]
    },
    {
     "data": {
      "text/html": [
       "<div>\n",
       "<style scoped>\n",
       "    .dataframe tbody tr th:only-of-type {\n",
       "        vertical-align: middle;\n",
       "    }\n",
       "\n",
       "    .dataframe tbody tr th {\n",
       "        vertical-align: top;\n",
       "    }\n",
       "\n",
       "    .dataframe thead th {\n",
       "        text-align: right;\n",
       "    }\n",
       "</style>\n",
       "<table border=\"1\" class=\"dataframe\">\n",
       "  <thead>\n",
       "    <tr style=\"text-align: right;\">\n",
       "      <th></th>\n",
       "      <th>doc_id</th>\n",
       "      <th>title</th>\n",
       "    </tr>\n",
       "  </thead>\n",
       "  <tbody>\n",
       "    <tr>\n",
       "      <th>0</th>\n",
       "      <td>6</td>\n",
       "      <td>Заместитель председателяnправительства РФnСерг...</td>\n",
       "    </tr>\n",
       "    <tr>\n",
       "      <th>1</th>\n",
       "      <td>4896</td>\n",
       "      <td>Матч 1/16 финала Кубка России по футболу был п...</td>\n",
       "    </tr>\n",
       "    <tr>\n",
       "      <th>2</th>\n",
       "      <td>4897</td>\n",
       "      <td>Форвард «Авангарда» Томаш Заборский прокоммент...</td>\n",
       "    </tr>\n",
       "    <tr>\n",
       "      <th>3</th>\n",
       "      <td>4898</td>\n",
       "      <td>Главный тренер «Кубани» Юрий Красножан прокомм...</td>\n",
       "    </tr>\n",
       "    <tr>\n",
       "      <th>4</th>\n",
       "      <td>4899</td>\n",
       "      <td>Решением попечительского совета владивостокско...</td>\n",
       "    </tr>\n",
       "  </tbody>\n",
       "</table>\n",
       "</div>"
      ],
      "text/plain": [
       "   doc_id                                              title\n",
       "0       6  Заместитель председателяnправительства РФnСерг...\n",
       "1    4896  Матч 1/16 финала Кубка России по футболу был п...\n",
       "2    4897  Форвард «Авангарда» Томаш Заборский прокоммент...\n",
       "3    4898  Главный тренер «Кубани» Юрий Красножан прокомм...\n",
       "4    4899  Решением попечительского совета владивостокско..."
      ]
     },
     "execution_count": 3,
     "metadata": {},
     "output_type": "execute_result"
    }
   ],
   "source": [
    "news = pd.read_csv(\"articles.csv\")\n",
    "print(news.shape)\n",
    "news.head()"
   ]
  },
  {
   "cell_type": "code",
   "execution_count": 4,
   "metadata": {
    "colab": {
     "base_uri": "https://localhost:8080/",
     "height": 142
    },
    "id": "-fHdrCgi8BGd",
    "outputId": "ce157cf2-cc9a-4a53-c25f-be1163c81b05"
   },
   "outputs": [
    {
     "data": {
      "text/plain": [
       "'Заместитель председателяnправительства РФnСергейnИвановnизбран председателем советаnПБК ЦСКАn. Как сообщаетnпресс-службаnармейцев, такое решение было единогласно принято на первом заседании совета клуба. Основной функцией этого органа будет обсуждение текущего состояния, планирование и утверждение стратегии развития клуба на ближайшую перспективу.nnВ состав совета вошли:nГеоргий Полтавченкоn(полномочный представитель президента в Центральном федеральном округе),nАлексей Седовn(генерал-полковник, начальник службы по защите конституционного строя и борьбе с терроризмомnФСБ РФn),nАлександр Новакn(заместитель министра финансов РФ),nВячеслав Полтавцевn(заместитель генерального директора, руководитель блока по взаимодействию с органами власти, социальной и корпоративной политикиnГМК «Норильский никель»n),nЛеонид Исаковичn(генеральный директор ООО «УК «Спортивные проекты»),nОльга Плешаковаn(генеральный директорn«Трансаэро»n),nАлександр Провоторовn, (генеральный директорnОАО «Ростелеком»n), Андрей Лопатов (экс-игрок ЦСКА, чемпион мира, трехкратный чемпион Европы по баскетболу, председатель правленияnбанка «Клиентский»n),nАндрей Ватутинn(президент ПБК ЦСКА).'"
      ]
     },
     "execution_count": 4,
     "metadata": {},
     "output_type": "execute_result"
    }
   ],
   "source": [
    "news.iloc[0]['title']"
   ]
  },
  {
   "cell_type": "code",
   "execution_count": 5,
   "metadata": {
    "colab": {
     "base_uri": "https://localhost:8080/"
    },
    "id": "8sRdA47KrO0Q",
    "outputId": "d057c05e-8a27-4ae3-9c75-94c019581405"
   },
   "outputs": [
    {
     "name": "stdout",
     "output_type": "stream",
     "text": [
      "--2022-03-29 16:36:46--  https://drive.google.com/uc?export=download&id=1Q97K9eGrvpbS4ut5CphZa--gJDRqQp2a\n",
      "Распознаётся drive.google.com (drive.google.com)... 216.58.207.238, 2a00:1450:400f:80c::200e\n",
      "Подключение к drive.google.com (drive.google.com)|216.58.207.238|:443... соединение установлено.\n",
      "HTTP-запрос отправлен. Ожидание ответа... 303 See Other\n",
      "Адрес: https://doc-04-c0-docs.googleusercontent.com/docs/securesc/ha0ro937gcuc7l7deffksulhg5h7mbp1/q2lvv4s9md858vu2m0nnufmgnn384jo9/1648560975000/14904333240138417226/*/1Q97K9eGrvpbS4ut5CphZa--gJDRqQp2a?e=download [переход]\n",
      "Предупреждение: в HTTP шаблоны не поддерживаются.\n",
      "--2022-03-29 16:36:47--  https://doc-04-c0-docs.googleusercontent.com/docs/securesc/ha0ro937gcuc7l7deffksulhg5h7mbp1/q2lvv4s9md858vu2m0nnufmgnn384jo9/1648560975000/14904333240138417226/*/1Q97K9eGrvpbS4ut5CphZa--gJDRqQp2a?e=download\n",
      "Распознаётся doc-04-c0-docs.googleusercontent.com (doc-04-c0-docs.googleusercontent.com)... 142.250.74.65, 2a00:1450:400f:802::2001\n",
      "Подключение к doc-04-c0-docs.googleusercontent.com (doc-04-c0-docs.googleusercontent.com)|142.250.74.65|:443... соединение установлено.\n",
      "HTTP-запрос отправлен. Ожидание ответа... 200 OK\n",
      "Длина: 434166 (424K) [text/csv]\n",
      "Сохранение в каталог: ««users_articles.csv»».\n",
      "\n",
      "users_articles.csv  100%[===================>] 423,99K  1,85MB/s    за 0,2s    \n",
      "\n",
      "2022-03-29 16:36:48 (1,85 MB/s) - «users_articles.csv» сохранён [434166/434166]\n",
      "\n"
     ]
    }
   ],
   "source": [
    "!wget 'https://drive.google.com/uc?export=download&id=1Q97K9eGrvpbS4ut5CphZa--gJDRqQp2a' -O users_articles.csv"
   ]
  },
  {
   "cell_type": "markdown",
   "metadata": {
    "id": "rXqISPsTrO0R"
   },
   "source": [
    "Загрузим пользователей и списки последних прочитанных новостей"
   ]
  },
  {
   "cell_type": "code",
   "execution_count": 6,
   "metadata": {
    "colab": {
     "base_uri": "https://localhost:8080/",
     "height": 143
    },
    "id": "B_Wte8vFrO0S",
    "outputId": "fd3a059e-29aa-40b9-8d32-8d598038bd80"
   },
   "outputs": [
    {
     "data": {
      "text/html": [
       "<div>\n",
       "<style scoped>\n",
       "    .dataframe tbody tr th:only-of-type {\n",
       "        vertical-align: middle;\n",
       "    }\n",
       "\n",
       "    .dataframe tbody tr th {\n",
       "        vertical-align: top;\n",
       "    }\n",
       "\n",
       "    .dataframe thead th {\n",
       "        text-align: right;\n",
       "    }\n",
       "</style>\n",
       "<table border=\"1\" class=\"dataframe\">\n",
       "  <thead>\n",
       "    <tr style=\"text-align: right;\">\n",
       "      <th></th>\n",
       "      <th>uid</th>\n",
       "      <th>articles</th>\n",
       "    </tr>\n",
       "  </thead>\n",
       "  <tbody>\n",
       "    <tr>\n",
       "      <th>0</th>\n",
       "      <td>u105138</td>\n",
       "      <td>[293672, 293328, 293001, 293622, 293126, 1852]</td>\n",
       "    </tr>\n",
       "    <tr>\n",
       "      <th>1</th>\n",
       "      <td>u108690</td>\n",
       "      <td>[3405, 1739, 2972, 1158, 1599, 322665]</td>\n",
       "    </tr>\n",
       "    <tr>\n",
       "      <th>2</th>\n",
       "      <td>u108339</td>\n",
       "      <td>[1845, 2009, 2356, 1424, 2939, 323389]</td>\n",
       "    </tr>\n",
       "  </tbody>\n",
       "</table>\n",
       "</div>"
      ],
      "text/plain": [
       "       uid                                        articles\n",
       "0  u105138  [293672, 293328, 293001, 293622, 293126, 1852]\n",
       "1  u108690          [3405, 1739, 2972, 1158, 1599, 322665]\n",
       "2  u108339          [1845, 2009, 2356, 1424, 2939, 323389]"
      ]
     },
     "execution_count": 6,
     "metadata": {},
     "output_type": "execute_result"
    }
   ],
   "source": [
    "users = pd.read_csv(\"users_articles.csv\")\n",
    "users.head(3)"
   ]
  },
  {
   "cell_type": "code",
   "execution_count": 7,
   "metadata": {},
   "outputs": [
    {
     "data": {
      "text/html": [
       "<div>\n",
       "<style scoped>\n",
       "    .dataframe tbody tr th:only-of-type {\n",
       "        vertical-align: middle;\n",
       "    }\n",
       "\n",
       "    .dataframe tbody tr th {\n",
       "        vertical-align: top;\n",
       "    }\n",
       "\n",
       "    .dataframe thead th {\n",
       "        text-align: right;\n",
       "    }\n",
       "</style>\n",
       "<table border=\"1\" class=\"dataframe\">\n",
       "  <thead>\n",
       "    <tr style=\"text-align: right;\">\n",
       "      <th></th>\n",
       "      <th>doc_id</th>\n",
       "      <th>title</th>\n",
       "    </tr>\n",
       "  </thead>\n",
       "  <tbody>\n",
       "    <tr>\n",
       "      <th>6615</th>\n",
       "      <td>293001</td>\n",
       "      <td>Группа «Алиса» отменила все концерты на Украин...</td>\n",
       "    </tr>\n",
       "    <tr>\n",
       "      <th>6740</th>\n",
       "      <td>293126</td>\n",
       "      <td>В МИД нашли характеристику, данную агентством ...</td>\n",
       "    </tr>\n",
       "    <tr>\n",
       "      <th>6942</th>\n",
       "      <td>293328</td>\n",
       "      <td>Актриса Джессика Биль открывает собственную ко...</td>\n",
       "    </tr>\n",
       "    <tr>\n",
       "      <th>7236</th>\n",
       "      <td>293622</td>\n",
       "      <td>Звезды Бродвея в преддверии сочинской Олимпиад...</td>\n",
       "    </tr>\n",
       "    <tr>\n",
       "      <th>7286</th>\n",
       "      <td>293672</td>\n",
       "      <td>Кинотеатр «Художественный» откроется после рес...</td>\n",
       "    </tr>\n",
       "    <tr>\n",
       "      <th>16276</th>\n",
       "      <td>1852</td>\n",
       "      <td>Вероятным исполнителем теракта в Санкт-Петербу...</td>\n",
       "    </tr>\n",
       "  </tbody>\n",
       "</table>\n",
       "</div>"
      ],
      "text/plain": [
       "       doc_id                                              title\n",
       "6615   293001  Группа «Алиса» отменила все концерты на Украин...\n",
       "6740   293126  В МИД нашли характеристику, данную агентством ...\n",
       "6942   293328  Актриса Джессика Биль открывает собственную ко...\n",
       "7236   293622  Звезды Бродвея в преддверии сочинской Олимпиад...\n",
       "7286   293672  Кинотеатр «Художественный» откроется после рес...\n",
       "16276    1852  Вероятным исполнителем теракта в Санкт-Петербу..."
      ]
     },
     "execution_count": 7,
     "metadata": {},
     "output_type": "execute_result"
    }
   ],
   "source": [
    "news[news['doc_id'].isin([293672, 293328, 293001, 293622, 293126, 1852])]"
   ]
  },
  {
   "cell_type": "markdown",
   "metadata": {
    "id": "gC2mYbVorO0T"
   },
   "source": [
    "Итак, нам нужно получить векторные представления пользователей на основе прочитанным ими новостей и самих новостей"
   ]
  },
  {
   "cell_type": "markdown",
   "metadata": {
    "id": "yzjqymHOrO0U"
   },
   "source": [
    "### 1. Получаем векторные представления новостей"
   ]
  },
  {
   "cell_type": "markdown",
   "metadata": {
    "id": "6IAvfEF7vwlo"
   },
   "source": [
    "**ПОЗАВТРАКАЛИ**\n",
    "\n",
    "Стемминг (убираем лишнии куски слова):\n",
    "**завтрак**<br>\n",
    "Очень быстро, очень дешево и очень слабо.\n",
    "\n",
    "Лемматизация (перевод в неопределенную форму для гл. и в им.падеж для сущ.):\n",
    "**завтракать**<br>\n",
    "Небыстро, сложно."
   ]
  },
  {
   "cell_type": "code",
   "execution_count": 8,
   "metadata": {
    "colab": {
     "base_uri": "https://localhost:8080/"
    },
    "id": "IOUvCQhMtEbt",
    "outputId": "cbca3597-5185-4a96-ca61-24176c49028c"
   },
   "outputs": [
    {
     "name": "stdout",
     "output_type": "stream",
     "text": [
      "Requirement already satisfied: razdel in /home/recpi/anaconda3/lib/python3.9/site-packages (0.5.0)\n",
      "Requirement already satisfied: pymorphy2 in /home/recpi/anaconda3/lib/python3.9/site-packages (0.9.1)\n",
      "Requirement already satisfied: pyLDAvis in /home/recpi/anaconda3/lib/python3.9/site-packages (3.3.1)\n",
      "Requirement already satisfied: dawg-python>=0.7.1 in /home/recpi/anaconda3/lib/python3.9/site-packages (from pymorphy2) (0.7.2)\n",
      "Requirement already satisfied: pymorphy2-dicts-ru<3.0,>=2.4 in /home/recpi/anaconda3/lib/python3.9/site-packages (from pymorphy2) (2.4.417127.4579844)\n",
      "Requirement already satisfied: docopt>=0.6 in /home/recpi/anaconda3/lib/python3.9/site-packages (from pymorphy2) (0.6.2)\n",
      "Requirement already satisfied: numpy>=1.20.0 in /home/recpi/anaconda3/lib/python3.9/site-packages (from pyLDAvis) (1.20.3)\n",
      "Requirement already satisfied: scipy in /home/recpi/anaconda3/lib/python3.9/site-packages (from pyLDAvis) (1.7.1)\n",
      "Requirement already satisfied: sklearn in /home/recpi/anaconda3/lib/python3.9/site-packages (from pyLDAvis) (0.0)\n",
      "Requirement already satisfied: gensim in /home/recpi/anaconda3/lib/python3.9/site-packages (from pyLDAvis) (4.1.2)\n",
      "Requirement already satisfied: numexpr in /home/recpi/anaconda3/lib/python3.9/site-packages (from pyLDAvis) (2.7.3)\n",
      "Requirement already satisfied: funcy in /home/recpi/anaconda3/lib/python3.9/site-packages (from pyLDAvis) (1.17)\n",
      "Requirement already satisfied: jinja2 in /home/recpi/anaconda3/lib/python3.9/site-packages (from pyLDAvis) (2.11.3)\n",
      "Requirement already satisfied: scikit-learn in /home/recpi/anaconda3/lib/python3.9/site-packages (from pyLDAvis) (1.0.2)\n",
      "Requirement already satisfied: joblib in /home/recpi/anaconda3/lib/python3.9/site-packages (from pyLDAvis) (1.1.0)\n",
      "Requirement already satisfied: pandas>=1.2.0 in /home/recpi/anaconda3/lib/python3.9/site-packages (from pyLDAvis) (1.3.4)\n",
      "Requirement already satisfied: setuptools in /home/recpi/anaconda3/lib/python3.9/site-packages (from pyLDAvis) (58.0.4)\n",
      "Requirement already satisfied: future in /home/recpi/anaconda3/lib/python3.9/site-packages (from pyLDAvis) (0.18.2)\n",
      "Requirement already satisfied: python-dateutil>=2.7.3 in /home/recpi/anaconda3/lib/python3.9/site-packages (from pandas>=1.2.0->pyLDAvis) (2.8.2)\n",
      "Requirement already satisfied: pytz>=2017.3 in /home/recpi/anaconda3/lib/python3.9/site-packages (from pandas>=1.2.0->pyLDAvis) (2021.3)\n",
      "Requirement already satisfied: six>=1.5 in /home/recpi/anaconda3/lib/python3.9/site-packages (from python-dateutil>=2.7.3->pandas>=1.2.0->pyLDAvis) (1.16.0)\n",
      "Requirement already satisfied: smart-open>=1.8.1 in /home/recpi/anaconda3/lib/python3.9/site-packages (from gensim->pyLDAvis) (5.2.1)\n",
      "Requirement already satisfied: MarkupSafe>=0.23 in /home/recpi/anaconda3/lib/python3.9/site-packages (from jinja2->pyLDAvis) (1.1.1)\n",
      "Requirement already satisfied: threadpoolctl>=2.0.0 in /home/recpi/anaconda3/lib/python3.9/site-packages (from scikit-learn->pyLDAvis) (2.2.0)\n"
     ]
    }
   ],
   "source": [
    "!pip install razdel pymorphy2 pyLDAvis"
   ]
  },
  {
   "cell_type": "code",
   "execution_count": 9,
   "metadata": {
    "id": "r5aEUfAArO0W"
   },
   "outputs": [],
   "source": [
    "# предобработка текстов\n",
    "import re\n",
    "import numpy as np\n",
    "from gensim.corpora.dictionary import Dictionary\n",
    "from razdel import tokenize  # сегментация русскоязычного текста на токены и предложения https://github.com/natasha/razdel\n",
    "import pymorphy2  # Морфологический анализатор"
   ]
  },
  {
   "cell_type": "markdown",
   "metadata": {
    "id": "qkL7Aq9owwIz"
   },
   "source": [
    "Не все слова равны, не все слова одинаково работают. К примеру, союзы и предлоги в нашей задачи никак не помогут, поэтому можем их выкидывать. (*Но в задачах оценки стиля, к примеру, такие слова будут очень полезны*)"
   ]
  },
  {
   "cell_type": "code",
   "execution_count": 10,
   "metadata": {
    "colab": {
     "base_uri": "https://localhost:8080/"
    },
    "id": "stfdHK-ivFlT",
    "outputId": "8f23c147-3dda-4ac1-b7f7-f6f10d93d2ab"
   },
   "outputs": [
    {
     "name": "stderr",
     "output_type": "stream",
     "text": [
      "[nltk_data] Downloading package stopwords to /home/recpi/nltk_data...\n",
      "[nltk_data]   Package stopwords is already up-to-date!\n"
     ]
    },
    {
     "data": {
      "text/plain": [
       "True"
      ]
     },
     "execution_count": 10,
     "metadata": {},
     "output_type": "execute_result"
    }
   ],
   "source": [
    "import nltk\n",
    "from nltk.corpus import stopwords\n",
    "nltk.download('stopwords')"
   ]
  },
  {
   "cell_type": "code",
   "execution_count": 11,
   "metadata": {
    "colab": {
     "base_uri": "https://localhost:8080/"
    },
    "id": "bwgnYaT7rO0X",
    "outputId": "adfaa79e-6b6d-48e4-b63f-8f25a549805b"
   },
   "outputs": [
    {
     "name": "stdout",
     "output_type": "stream",
     "text": [
      "151\n"
     ]
    }
   ],
   "source": [
    "stopword_ru = stopwords.words('russian')\n",
    "print(len(stopword_ru))"
   ]
  },
  {
   "cell_type": "code",
   "execution_count": 12,
   "metadata": {
    "colab": {
     "base_uri": "https://localhost:8080/"
    },
    "id": "3VeXs0NIxTIU",
    "outputId": "6c6418b2-fc88-41a3-9acb-d40782e9c84c"
   },
   "outputs": [
    {
     "data": {
      "text/plain": [
       "['и', 'в', 'во', 'не', 'что', 'он', 'на', 'я', 'с', 'со']"
      ]
     },
     "execution_count": 12,
     "metadata": {},
     "output_type": "execute_result"
    }
   ],
   "source": [
    "stopword_ru[:10]"
   ]
  },
  {
   "cell_type": "code",
   "execution_count": 13,
   "metadata": {
    "colab": {
     "base_uri": "https://localhost:8080/"
    },
    "id": "GnsDhcwLxcwU",
    "outputId": "4864cd13-77ad-4447-e1ec-9b359846ae0c"
   },
   "outputs": [
    {
     "name": "stdout",
     "output_type": "stream",
     "text": [
      "--2022-03-29 16:36:53--  https://drive.google.com/uc?export=download&id=17wVn5YPpMjHToctGgff_KfSeWcIIlf7c\n",
      "Распознаётся drive.google.com (drive.google.com)... 216.58.207.238, 2a00:1450:400f:80c::200e\n",
      "Подключение к drive.google.com (drive.google.com)|216.58.207.238|:443... соединение установлено.\n",
      "HTTP-запрос отправлен. Ожидание ответа... 303 See Other\n",
      "Адрес: https://doc-0s-c0-docs.googleusercontent.com/docs/securesc/ha0ro937gcuc7l7deffksulhg5h7mbp1/3vimuhhn9luadts6pmbu23t422jj9of7/1648560975000/14904333240138417226/*/17wVn5YPpMjHToctGgff_KfSeWcIIlf7c?e=download [переход]\n",
      "Предупреждение: в HTTP шаблоны не поддерживаются.\n",
      "--2022-03-29 16:36:53--  https://doc-0s-c0-docs.googleusercontent.com/docs/securesc/ha0ro937gcuc7l7deffksulhg5h7mbp1/3vimuhhn9luadts6pmbu23t422jj9of7/1648560975000/14904333240138417226/*/17wVn5YPpMjHToctGgff_KfSeWcIIlf7c?e=download\n",
      "Распознаётся doc-0s-c0-docs.googleusercontent.com (doc-0s-c0-docs.googleusercontent.com)... 142.250.74.65, 2a00:1450:400f:802::2001\n",
      "Подключение к doc-0s-c0-docs.googleusercontent.com (doc-0s-c0-docs.googleusercontent.com)|142.250.74.65|:443... соединение установлено.\n",
      "HTTP-запрос отправлен. Ожидание ответа... 200 OK\n",
      "Длина: 5368 (5,2K) [text/plain]\n",
      "Сохранение в каталог: ««stopwords.txt»».\n",
      "\n",
      "stopwords.txt       100%[===================>]   5,24K  --.-KB/s    за 0,001s  \n",
      "\n",
      "2022-03-29 16:36:54 (6,52 MB/s) - «stopwords.txt» сохранён [5368/5368]\n",
      "\n"
     ]
    }
   ],
   "source": [
    "!wget 'https://drive.google.com/uc?export=download&id=17wVn5YPpMjHToctGgff_KfSeWcIIlf7c' -O stopwords.txt"
   ]
  },
  {
   "cell_type": "code",
   "execution_count": 14,
   "metadata": {
    "colab": {
     "base_uri": "https://localhost:8080/"
    },
    "id": "fw3Nj3qhrO0X",
    "outputId": "921fb570-f848-4ab2-8d47-e697aaa6d7be"
   },
   "outputs": [
    {
     "data": {
      "text/plain": [
       "776"
      ]
     },
     "execution_count": 14,
     "metadata": {},
     "output_type": "execute_result"
    }
   ],
   "source": [
    "with open('stopwords.txt') as f:\n",
    "    additional_stopwords = [w.strip() for w in f.readlines() if w]\n",
    "    \n",
    "stopword_ru += additional_stopwords\n",
    "len(stopword_ru)"
   ]
  },
  {
   "cell_type": "code",
   "execution_count": 15,
   "metadata": {
    "colab": {
     "base_uri": "https://localhost:8080/"
    },
    "id": "vZV9fxlbxjQQ",
    "outputId": "af314b7d-0179-4cd4-81a3-195227dd1e94"
   },
   "outputs": [
    {
     "data": {
      "text/plain": [
       "['ни', 'быть', 'был', 'него', 'до', 'вас', 'нибудь', 'опять', 'уж', 'вам']"
      ]
     },
     "execution_count": 15,
     "metadata": {},
     "output_type": "execute_result"
    }
   ],
   "source": [
    "stopword_ru[200:210]"
   ]
  },
  {
   "cell_type": "code",
   "execution_count": 16,
   "metadata": {
    "id": "hdyTS-yDrO0Y"
   },
   "outputs": [],
   "source": [
    "def clean_text(text):\n",
    "    '''\n",
    "    очистка текста\n",
    "    \n",
    "    на выходе очищеный текст\n",
    "    '''\n",
    "    if not isinstance(text, str):\n",
    "        text = str(text)\n",
    "    \n",
    "    text = text.lower()\n",
    "    text = text.strip('\\n').strip('\\r').strip('\\t')\n",
    "    text = re.sub(\"-\\s\\r\\n\\|-\\s\\r\\n|\\r\\n\", '', str(text))\n",
    "\n",
    "    text = re.sub(\"[0-9]|[-—.,:;_%©«»?*!@#№$^•·&()]|[+=]|[[]|[]]|[/]|\", '', text)\n",
    "    text = re.sub(r\"\\r\\n\\t|\\n|\\\\s|\\r\\t|\\\\n\", ' ', text)\n",
    "    text = re.sub(r'[\\xad]|[\\s+]', ' ', text.strip())\n",
    "    text = re.sub('n', ' ', text)\n",
    "    \n",
    "    return text\n",
    "\n",
    "cache = {}\n",
    "morph = pymorphy2.MorphAnalyzer()\n",
    "\n",
    "def lemmatization(text):    \n",
    "    '''\n",
    "    лемматизация\n",
    "        [0] если зашел тип не `str` делаем его `str`\n",
    "        [1] токенизация предложения через razdel\n",
    "        [2] проверка есть ли в начале слова '-'\n",
    "        [3] проверка токена с одного символа\n",
    "        [4] проверка есть ли данное слово в кэше\n",
    "        [5] лемматизация слова\n",
    "        [6] проверка на стоп-слова\n",
    "\n",
    "    на выходе лист лемматизированых токенов\n",
    "    '''\n",
    "\n",
    "    # [0]\n",
    "    if not isinstance(text, str):\n",
    "        text = str(text)\n",
    "    \n",
    "    # [1]\n",
    "    tokens = list(tokenize(text))\n",
    "    words = [_.text for _ in tokens]\n",
    "\n",
    "    words_lem = []\n",
    "    for w in words:\n",
    "        if w[0] == '-': # [2]\n",
    "            w = w[1:]\n",
    "        if len(w) > 1: # [3]\n",
    "            if w in cache: # [4]\n",
    "                words_lem.append(cache[w])\n",
    "            else: # [5]\n",
    "                temp_cach = cache[w] = morph.parse(w)[0].normal_form\n",
    "                words_lem.append(temp_cach)\n",
    "    \n",
    "    words_lem_without_stopwords = [i for i in words_lem if not i in stopword_ru] # [6]\n",
    "    \n",
    "    return words_lem_without_stopwords"
   ]
  },
  {
   "cell_type": "code",
   "execution_count": 17,
   "metadata": {
    "colab": {
     "base_uri": "https://localhost:8080/",
     "height": 36
    },
    "id": "3dkl71coyj3S",
    "outputId": "d0118832-03a6-4c34-e59d-6b0f8ac71b00"
   },
   "outputs": [
    {
     "data": {
      "text/plain": [
       "'сбегать'"
      ]
     },
     "execution_count": 17,
     "metadata": {},
     "output_type": "execute_result"
    }
   ],
   "source": [
    "morph = pymorphy2.MorphAnalyzer()\n",
    "morph.parse('сбегали')[0].normal_form"
   ]
  },
  {
   "cell_type": "code",
   "execution_count": 18,
   "metadata": {
    "colab": {
     "base_uri": "https://localhost:8080/"
    },
    "id": "C5grR2zdzi-X",
    "outputId": "17027778-94ae-4461-fb47-82de01747610"
   },
   "outputs": [
    {
     "name": "stderr",
     "output_type": "stream",
     "text": [
      "/tmp/ipykernel_14632/1880867539.py:14: FutureWarning: Possible nested set at position 39\n",
      "  text = re.sub(\"[0-9]|[-—.,:;_%©«»?*!@#№$^•·&()]|[+=]|[[]|[]]|[/]|\", '', text)\n"
     ]
    },
    {
     "data": {
      "text/plain": [
       "0    заместитель председателя правительства рф серг...\n",
       "1    матч  финала кубка россии по футболу был приос...\n",
       "Name: title, dtype: object"
      ]
     },
     "execution_count": 18,
     "metadata": {},
     "output_type": "execute_result"
    }
   ],
   "source": [
    "news['title'].iloc[:2].apply(lambda x: clean_text(x))"
   ]
  },
  {
   "cell_type": "code",
   "execution_count": 19,
   "metadata": {
    "colab": {
     "base_uri": "https://localhost:8080/"
    },
    "id": "QB2yF4CsrO0Z",
    "outputId": "547bf57c-0c47-4ca8-c46f-7a35e667ceb0",
    "scrolled": true
   },
   "outputs": [
    {
     "name": "stderr",
     "output_type": "stream",
     "text": [
      "100%|████████████████████████████████████| 27000/27000 [00:43<00:00, 624.23it/s]"
     ]
    },
    {
     "name": "stdout",
     "output_type": "stream",
     "text": [
      "CPU times: user 41.8 s, sys: 1.73 s, total: 43.5 s\n",
      "Wall time: 43.3 s\n"
     ]
    },
    {
     "name": "stderr",
     "output_type": "stream",
     "text": [
      "\n"
     ]
    }
   ],
   "source": [
    "%%time\n",
    "from tqdm import tqdm\n",
    "tqdm.pandas()\n",
    "\n",
    "# Запускаем очистку текста. Будет долго...\n",
    "news['title'] = news['title'].progress_apply(lambda x: clean_text(x))"
   ]
  },
  {
   "cell_type": "code",
   "execution_count": 20,
   "metadata": {
    "colab": {
     "base_uri": "https://localhost:8080/"
    },
    "id": "XmkV3EefzYf0",
    "outputId": "09289be7-86f2-46be-e539-337738099cfe"
   },
   "outputs": [
    {
     "data": {
      "text/plain": [
       "0    заместитель председателя правительства рф серг...\n",
       "1    матч  финала кубка россии по футболу был приос...\n",
       "2    форвард авангарда томаш заборский прокомментир...\n",
       "3    главный тренер кубани юрий красножан прокоммен...\n",
       "4    решением попечительского совета владивостокско...\n",
       "5    ио главного тренера вячеслав буцаев прокоммент...\n",
       "6    запорожский металлург дома потерпел разгромное...\n",
       "7    сборная сша одержала победу над австрией со сч...\n",
       "8    бывший защитник сборной россии дарюс каспарайт...\n",
       "9    полузащитник цска зоран тошич после победы над...\n",
       "Name: title, dtype: object"
      ]
     },
     "execution_count": 20,
     "metadata": {},
     "output_type": "execute_result"
    }
   ],
   "source": [
    "news['title'].iloc[:10]"
   ]
  },
  {
   "cell_type": "code",
   "execution_count": 21,
   "metadata": {
    "colab": {
     "base_uri": "https://localhost:8080/"
    },
    "id": "Em-afWYY0Ntx",
    "outputId": "0e32d640-b847-4cfc-d12d-9afc1dfceb99"
   },
   "outputs": [
    {
     "data": {
      "text/plain": [
       "0    [заместитель, председатель, правительство, рф,...\n",
       "1    [матч, финал, кубок, россия, футбол, приостано...\n",
       "Name: title, dtype: object"
      ]
     },
     "execution_count": 21,
     "metadata": {},
     "output_type": "execute_result"
    }
   ],
   "source": [
    "news['title'].iloc[:2].apply(lambda x: lemmatization(x))"
   ]
  },
  {
   "cell_type": "code",
   "execution_count": 22,
   "metadata": {
    "colab": {
     "base_uri": "https://localhost:8080/"
    },
    "id": "ug4Q6n2VrO0b",
    "outputId": "7975e1a1-99de-476c-bc0b-7319df76b28c"
   },
   "outputs": [
    {
     "name": "stderr",
     "output_type": "stream",
     "text": [
      "100%|█████████████████████████████████████| 27000/27000 [05:16<00:00, 85.31it/s]"
     ]
    },
    {
     "name": "stdout",
     "output_type": "stream",
     "text": [
      "CPU times: user 5min 15s, sys: 1.65 s, total: 5min 17s\n",
      "Wall time: 5min 16s\n"
     ]
    },
    {
     "name": "stderr",
     "output_type": "stream",
     "text": [
      "\n"
     ]
    }
   ],
   "source": [
    "%%time\n",
    "# Запускаем лемматизацию текста. Будет очень долго...\n",
    "news['title'] = news['title'].progress_apply(lambda x: lemmatization(x))"
   ]
  },
  {
   "cell_type": "markdown",
   "metadata": {
    "id": "pUGOY6a5rO0c"
   },
   "source": [
    "А теперь в 3 строчки обучим нашу модель"
   ]
  },
  {
   "cell_type": "code",
   "execution_count": 23,
   "metadata": {
    "id": "TCyJb8-8rO0d"
   },
   "outputs": [],
   "source": [
    "# сформируем список наших текстов\n",
    "texts = list(news['title'].values)\n",
    "\n",
    "# Создадим корпус из списка с текстами\n",
    "common_dictionary = Dictionary(texts)\n",
    "common_corpus = [common_dictionary.doc2bow(text) for text in texts]"
   ]
  },
  {
   "cell_type": "markdown",
   "metadata": {
    "id": "xYRkOOKyrO0e"
   },
   "source": [
    "Что такое common_dictionary и как он выглядит"
   ]
  },
  {
   "cell_type": "code",
   "execution_count": 24,
   "metadata": {
    "colab": {
     "base_uri": "https://localhost:8080/"
    },
    "id": "ozCl_2RI-WVx",
    "outputId": "bce98da9-90e6-4e47-ec3c-2d779c6501bb"
   },
   "outputs": [
    {
     "data": {
      "text/plain": [
       "135645"
      ]
     },
     "execution_count": 24,
     "metadata": {},
     "output_type": "execute_result"
    }
   ],
   "source": [
    "len(common_dictionary)"
   ]
  },
  {
   "cell_type": "code",
   "execution_count": 25,
   "metadata": {
    "colab": {
     "base_uri": "https://localhost:8080/",
     "height": 36
    },
    "id": "LsOVuc1yrO0f",
    "outputId": "fdea4cfd-768c-4201-f862-07777d18f39d"
   },
   "outputs": [
    {
     "data": {
      "text/plain": [
       "'банк'"
      ]
     },
     "execution_count": 25,
     "metadata": {},
     "output_type": "execute_result"
    }
   ],
   "source": [
    "common_dictionary[4]"
   ]
  },
  {
   "cell_type": "code",
   "execution_count": 26,
   "metadata": {
    "id": "L9PtOWW97xPr"
   },
   "outputs": [],
   "source": [
    "# common_dictionary.id2token"
   ]
  },
  {
   "cell_type": "code",
   "execution_count": 27,
   "metadata": {
    "colab": {
     "base_uri": "https://localhost:8080/"
    },
    "id": "liZN1S1D82Zi",
    "outputId": "9d0b3558-98af-4d70-cc2b-36f2ccf3d297"
   },
   "outputs": [
    {
     "data": {
      "text/plain": [
       "[(993, 1), (6129, 1), (12270, 1), (135645, 1)]"
      ]
     },
     "execution_count": 27,
     "metadata": {},
     "output_type": "execute_result"
    }
   ],
   "source": [
    "# allow_update=True если слово нет, добавит его в конец словаря\n",
    "common_dictionary.doc2bow(['коллега', 'пошел', 'пить', 'чай'], allow_update=True)"
   ]
  },
  {
   "cell_type": "markdown",
   "metadata": {
    "id": "g8FQaUKnrO0h"
   },
   "source": [
    "Все просто - это словарь наших слов"
   ]
  },
  {
   "cell_type": "markdown",
   "metadata": {
    "id": "HXPsfhNYrO0i"
   },
   "source": [
    "Запускаем обучение"
   ]
  },
  {
   "cell_type": "code",
   "execution_count": 28,
   "metadata": {
    "id": "yKtJddFL8UjP"
   },
   "outputs": [],
   "source": [
    "N_topic = 20"
   ]
  },
  {
   "cell_type": "code",
   "execution_count": 29,
   "metadata": {
    "colab": {
     "base_uri": "https://localhost:8080/"
    },
    "id": "M7vErZgurO0j",
    "outputId": "789fe035-f8e2-4b36-9b38-5f89731102b4"
   },
   "outputs": [
    {
     "name": "stdout",
     "output_type": "stream",
     "text": [
      "CPU times: user 42.3 s, sys: 18.7 ms, total: 42.3 s\n",
      "Wall time: 42.4 s\n"
     ]
    }
   ],
   "source": [
    "%%time\n",
    "from gensim.models import LdaModel\n",
    "\n",
    "# Обучаем модель на корпусе\n",
    "# passes=10 устанавливает кол-во проходов\n",
    "lda = LdaModel(common_corpus, num_topics=N_topic, id2word=common_dictionary)#, passes=10)"
   ]
  },
  {
   "cell_type": "code",
   "execution_count": 30,
   "metadata": {
    "id": "wSqtDjVJrO0j"
   },
   "outputs": [],
   "source": [
    "from gensim.test.utils import datapath\n",
    "\n",
    "# Сохраняем модель на диск\n",
    "temp_file = datapath(\"model.lda\")\n",
    "lda.save(temp_file)"
   ]
  },
  {
   "cell_type": "code",
   "execution_count": 31,
   "metadata": {
    "id": "HdhE3p_KysTd"
   },
   "outputs": [],
   "source": [
    "# Загружаем обученную модель с диска\n",
    "lda = LdaModel.load(temp_file)"
   ]
  },
  {
   "cell_type": "code",
   "execution_count": 32,
   "metadata": {
    "colab": {
     "base_uri": "https://localhost:8080/"
    },
    "id": "P6AZMJMXrO0l",
    "outputId": "dc83b767-6ddb-4173-c3c3-56ae8648a270"
   },
   "outputs": [
    {
     "name": "stdout",
     "output_type": "stream",
     "text": [
      "['форвард', 'авангард', 'томаш', 'заборский', 'прокомментировать', 'игра', 'команда', 'матч', 'чемпионат', 'кхл', 'против', 'атланта', 'плохой', 'матч', 'нижний', 'новгород', 'против', 'торпедо', 'настраиваться', 'первый', 'минута', 'включиться', 'заборский', 'получиться', 'забросить', 'быстрый', 'гол', 'задать', 'хороший', 'темп', 'поединок', 'играть', 'хороший', 'сторона', 'пять', 'очко', 'выезд', 'девять', 'хороший']\n"
     ]
    },
    {
     "data": {
      "text/plain": [
       "[(2, 0.41212684),\n",
       " (5, 0.03473513),\n",
       " (11, 0.02966909),\n",
       " (12, 0.43388593),\n",
       " (17, 0.06927151)]"
      ]
     },
     "execution_count": 32,
     "metadata": {},
     "output_type": "execute_result"
    }
   ],
   "source": [
    "# Создаем новый корпус документов, которые раньше не видели\n",
    "other_texts = list(news['title'].iloc[:3])\n",
    "other_corpus = [common_dictionary.doc2bow(text) for text in other_texts]\n",
    "\n",
    "unseen_doc = other_corpus[2]\n",
    "print(other_texts[2])\n",
    "lda[unseen_doc] "
   ]
  },
  {
   "cell_type": "markdown",
   "metadata": {
    "id": "wuxhnNakrO0k"
   },
   "source": [
    "Обучили модель. Теперь 2 вопроса:\n",
    "\n",
    "1. как выглядят наши темы\n",
    "2. как получить для документа вектор значений (вероятности принадлежности каждой теме)"
   ]
  },
  {
   "cell_type": "code",
   "execution_count": 33,
   "metadata": {
    "colab": {
     "base_uri": "https://localhost:8080/"
    },
    "id": "W0Q0uqACrO0m",
    "outputId": "6417cc4b-1ba7-40d1-aa0e-a5e6fdacf86b"
   },
   "outputs": [
    {
     "name": "stdout",
     "output_type": "stream",
     "text": [
      "topic_0: военный армия космонавт дыра форум годовой кость\n",
      "topic_1: мозг участок испытание лекарство лечение внедрение врач\n",
      "topic_2: день взрыв температура военный произойти высота всё\n",
      "topic_3: ракета рак берег парка старт резерв категорически\n",
      "topic_4: миссия пенсия товар письмо климат ск супруг\n",
      "topic_5: следствие восток доход энергия медицина мышь государство\n",
      "topic_6: египет японский превысить фильм китай япония китайский\n",
      "topic_7: операция грузия азия испытание армения кандидат экран\n",
      "topic_8: млрд журнал исследование наука снижение рост писать\n",
      "topic_9: погибнуть пациент украина около земля москва специальный\n",
      "topic_10: государство белый выборы администрация глава пост лодка\n",
      "topic_11: область путин строительство планета владимир центр регион\n",
      "topic_12: фестиваль поверхность вирус вицепремьер сайт узнать бензин\n",
      "topic_13: эксперт россия ребёнок первый газета ru всё\n",
      "topic_14: всё новый первый очень жизнь мир день\n",
      "topic_15: россия российский рынок банк развитие управление цена\n",
      "topic_16: рубль млн тело размер гражданин обнаружить сумма\n",
      "topic_17: газ российский система статья тыс россия украина\n",
      "topic_18: россия сша санкция власть российский сотрудник орган\n",
      "topic_19: фонд станция торговый пресссекретарить праздник россиянин фотография\n"
     ]
    }
   ],
   "source": [
    "x = lda.show_topics(num_topics=N_topic, num_words=7, formatted=False)\n",
    "topics_words = [(tp[0], [wd[0] for wd in tp[1]]) for tp in x]\n",
    "\n",
    "# Печатаем только слова\n",
    "for topic, words in topics_words:\n",
    "    print(f\"topic_{topic}: \" + \" \".join(words))"
   ]
  },
  {
   "cell_type": "markdown",
   "metadata": {
    "id": "54-NWqJlrO0m"
   },
   "source": [
    "Очень неплохо - большинство тем вполне можно описать о чем они"
   ]
  },
  {
   "cell_type": "markdown",
   "metadata": {
    "id": "Ty7ZrvUirO0n"
   },
   "source": [
    "Давайте напишем функцию, которая будет нам возвращать векторное представление новости"
   ]
  },
  {
   "cell_type": "code",
   "execution_count": 34,
   "metadata": {
    "id": "KprjS5qLrO0o"
   },
   "outputs": [],
   "source": [
    "def get_lda_vector(lda, text):\n",
    "    unseen_doc = common_dictionary.doc2bow(text)\n",
    "    lda_tuple = lda[unseen_doc]\n",
    "\n",
    "    not_null_topics = dict(zip([i[0] for i in lda_tuple], [i[1] for i in lda_tuple]))\n",
    "\n",
    "    output_vector = []\n",
    "    for i in range(N_topic):\n",
    "        if i not in not_null_topics:\n",
    "            output_vector.append(0)\n",
    "        else:\n",
    "            output_vector.append(not_null_topics[i])\n",
    "    return np.array(output_vector)"
   ]
  },
  {
   "cell_type": "code",
   "execution_count": 35,
   "metadata": {
    "colab": {
     "base_uri": "https://localhost:8080/"
    },
    "id": "Ior7y34i-Uwo",
    "outputId": "1ef7a28e-86d4-432d-e387-cf2f045e192c"
   },
   "outputs": [
    {
     "data": {
      "text/plain": [
       "array([0.        , 0.        , 0.        , 0.        , 0.        ,\n",
       "       0.        , 0.01328221, 0.        , 0.        , 0.        ,\n",
       "       0.        , 0.        , 0.06800991, 0.12428141, 0.        ,\n",
       "       0.78634644, 0.        , 0.        , 0.        , 0.        ])"
      ]
     },
     "execution_count": 35,
     "metadata": {},
     "output_type": "execute_result"
    }
   ],
   "source": [
    "get_lda_vector(lda, news['title'].iloc[0])"
   ]
  },
  {
   "cell_type": "code",
   "execution_count": 36,
   "metadata": {
    "colab": {
     "base_uri": "https://localhost:8080/"
    },
    "id": "VbrPcaB6rO0o",
    "outputId": "39d65bad-8f52-4788-e243-3044df8abea7"
   },
   "outputs": [
    {
     "name": "stdout",
     "output_type": "stream",
     "text": [
      "CPU times: user 40.2 s, sys: 54.9 ms, total: 40.3 s\n",
      "Wall time: 40.4 s\n"
     ]
    },
    {
     "data": {
      "text/html": [
       "<div>\n",
       "<style scoped>\n",
       "    .dataframe tbody tr th:only-of-type {\n",
       "        vertical-align: middle;\n",
       "    }\n",
       "\n",
       "    .dataframe tbody tr th {\n",
       "        vertical-align: top;\n",
       "    }\n",
       "\n",
       "    .dataframe thead th {\n",
       "        text-align: right;\n",
       "    }\n",
       "</style>\n",
       "<table border=\"1\" class=\"dataframe\">\n",
       "  <thead>\n",
       "    <tr style=\"text-align: right;\">\n",
       "      <th></th>\n",
       "      <th>doc_id</th>\n",
       "      <th>topic_0</th>\n",
       "      <th>topic_1</th>\n",
       "      <th>topic_2</th>\n",
       "      <th>topic_3</th>\n",
       "      <th>topic_4</th>\n",
       "      <th>topic_5</th>\n",
       "      <th>topic_6</th>\n",
       "      <th>topic_7</th>\n",
       "      <th>topic_8</th>\n",
       "      <th>...</th>\n",
       "      <th>topic_10</th>\n",
       "      <th>topic_11</th>\n",
       "      <th>topic_12</th>\n",
       "      <th>topic_13</th>\n",
       "      <th>topic_14</th>\n",
       "      <th>topic_15</th>\n",
       "      <th>topic_16</th>\n",
       "      <th>topic_17</th>\n",
       "      <th>topic_18</th>\n",
       "      <th>topic_19</th>\n",
       "    </tr>\n",
       "  </thead>\n",
       "  <tbody>\n",
       "    <tr>\n",
       "      <th>0</th>\n",
       "      <td>6</td>\n",
       "      <td>0.0</td>\n",
       "      <td>0.00000</td>\n",
       "      <td>0.000000</td>\n",
       "      <td>0.0</td>\n",
       "      <td>0.000000</td>\n",
       "      <td>0.000000</td>\n",
       "      <td>0.013276</td>\n",
       "      <td>0.0</td>\n",
       "      <td>0.0</td>\n",
       "      <td>...</td>\n",
       "      <td>0.000000</td>\n",
       "      <td>0.000000</td>\n",
       "      <td>0.067991</td>\n",
       "      <td>0.124373</td>\n",
       "      <td>0.000000</td>\n",
       "      <td>0.786279</td>\n",
       "      <td>0.000000</td>\n",
       "      <td>0.000000</td>\n",
       "      <td>0.0</td>\n",
       "      <td>0.0</td>\n",
       "    </tr>\n",
       "    <tr>\n",
       "      <th>1</th>\n",
       "      <td>4896</td>\n",
       "      <td>0.0</td>\n",
       "      <td>0.00000</td>\n",
       "      <td>0.659244</td>\n",
       "      <td>0.0</td>\n",
       "      <td>0.000000</td>\n",
       "      <td>0.000000</td>\n",
       "      <td>0.000000</td>\n",
       "      <td>0.0</td>\n",
       "      <td>0.0</td>\n",
       "      <td>...</td>\n",
       "      <td>0.000000</td>\n",
       "      <td>0.000000</td>\n",
       "      <td>0.317061</td>\n",
       "      <td>0.000000</td>\n",
       "      <td>0.000000</td>\n",
       "      <td>0.000000</td>\n",
       "      <td>0.000000</td>\n",
       "      <td>0.000000</td>\n",
       "      <td>0.0</td>\n",
       "      <td>0.0</td>\n",
       "    </tr>\n",
       "    <tr>\n",
       "      <th>2</th>\n",
       "      <td>4897</td>\n",
       "      <td>0.0</td>\n",
       "      <td>0.00000</td>\n",
       "      <td>0.412112</td>\n",
       "      <td>0.0</td>\n",
       "      <td>0.000000</td>\n",
       "      <td>0.034835</td>\n",
       "      <td>0.000000</td>\n",
       "      <td>0.0</td>\n",
       "      <td>0.0</td>\n",
       "      <td>...</td>\n",
       "      <td>0.000000</td>\n",
       "      <td>0.029597</td>\n",
       "      <td>0.433871</td>\n",
       "      <td>0.000000</td>\n",
       "      <td>0.000000</td>\n",
       "      <td>0.000000</td>\n",
       "      <td>0.000000</td>\n",
       "      <td>0.069274</td>\n",
       "      <td>0.0</td>\n",
       "      <td>0.0</td>\n",
       "    </tr>\n",
       "    <tr>\n",
       "      <th>3</th>\n",
       "      <td>4898</td>\n",
       "      <td>0.0</td>\n",
       "      <td>0.00000</td>\n",
       "      <td>0.000000</td>\n",
       "      <td>0.0</td>\n",
       "      <td>0.000000</td>\n",
       "      <td>0.000000</td>\n",
       "      <td>0.000000</td>\n",
       "      <td>0.0</td>\n",
       "      <td>0.0</td>\n",
       "      <td>...</td>\n",
       "      <td>0.000000</td>\n",
       "      <td>0.000000</td>\n",
       "      <td>0.137787</td>\n",
       "      <td>0.000000</td>\n",
       "      <td>0.850622</td>\n",
       "      <td>0.000000</td>\n",
       "      <td>0.000000</td>\n",
       "      <td>0.000000</td>\n",
       "      <td>0.0</td>\n",
       "      <td>0.0</td>\n",
       "    </tr>\n",
       "    <tr>\n",
       "      <th>4</th>\n",
       "      <td>4899</td>\n",
       "      <td>0.0</td>\n",
       "      <td>0.24296</td>\n",
       "      <td>0.000000</td>\n",
       "      <td>0.0</td>\n",
       "      <td>0.124346</td>\n",
       "      <td>0.000000</td>\n",
       "      <td>0.000000</td>\n",
       "      <td>0.0</td>\n",
       "      <td>0.0</td>\n",
       "      <td>...</td>\n",
       "      <td>0.086087</td>\n",
       "      <td>0.000000</td>\n",
       "      <td>0.145555</td>\n",
       "      <td>0.000000</td>\n",
       "      <td>0.000000</td>\n",
       "      <td>0.175757</td>\n",
       "      <td>0.050651</td>\n",
       "      <td>0.000000</td>\n",
       "      <td>0.0</td>\n",
       "      <td>0.0</td>\n",
       "    </tr>\n",
       "  </tbody>\n",
       "</table>\n",
       "<p>5 rows × 21 columns</p>\n",
       "</div>"
      ],
      "text/plain": [
       "   doc_id  topic_0  topic_1   topic_2  topic_3   topic_4   topic_5   topic_6  \\\n",
       "0       6      0.0  0.00000  0.000000      0.0  0.000000  0.000000  0.013276   \n",
       "1    4896      0.0  0.00000  0.659244      0.0  0.000000  0.000000  0.000000   \n",
       "2    4897      0.0  0.00000  0.412112      0.0  0.000000  0.034835  0.000000   \n",
       "3    4898      0.0  0.00000  0.000000      0.0  0.000000  0.000000  0.000000   \n",
       "4    4899      0.0  0.24296  0.000000      0.0  0.124346  0.000000  0.000000   \n",
       "\n",
       "   topic_7  topic_8  ...  topic_10  topic_11  topic_12  topic_13  topic_14  \\\n",
       "0      0.0      0.0  ...  0.000000  0.000000  0.067991  0.124373  0.000000   \n",
       "1      0.0      0.0  ...  0.000000  0.000000  0.317061  0.000000  0.000000   \n",
       "2      0.0      0.0  ...  0.000000  0.029597  0.433871  0.000000  0.000000   \n",
       "3      0.0      0.0  ...  0.000000  0.000000  0.137787  0.000000  0.850622   \n",
       "4      0.0      0.0  ...  0.086087  0.000000  0.145555  0.000000  0.000000   \n",
       "\n",
       "   topic_15  topic_16  topic_17  topic_18  topic_19  \n",
       "0  0.786279  0.000000  0.000000       0.0       0.0  \n",
       "1  0.000000  0.000000  0.000000       0.0       0.0  \n",
       "2  0.000000  0.000000  0.069274       0.0       0.0  \n",
       "3  0.000000  0.000000  0.000000       0.0       0.0  \n",
       "4  0.175757  0.050651  0.000000       0.0       0.0  \n",
       "\n",
       "[5 rows x 21 columns]"
      ]
     },
     "execution_count": 36,
     "metadata": {},
     "output_type": "execute_result"
    }
   ],
   "source": [
    "%%time\n",
    "topic_matrix = pd.DataFrame([get_lda_vector(lda, text) for text in news['title'].values])\n",
    "topic_matrix.columns = [f'topic_{i}' for i in range(N_topic)]\n",
    "topic_matrix['doc_id'] = news['doc_id'].values\n",
    "topic_matrix = topic_matrix[['doc_id']+[f'topic_{i}' for i in range(N_topic)]]\n",
    "topic_matrix.head(5)"
   ]
  },
  {
   "cell_type": "code",
   "execution_count": 37,
   "metadata": {
    "colab": {
     "base_uri": "https://localhost:8080/",
     "height": 299
    },
    "id": "p99gDUJLbJMI",
    "outputId": "997a458a-4802-440f-ed9d-9dc8c9510e85"
   },
   "outputs": [
    {
     "data": {
      "text/html": [
       "<div>\n",
       "<style scoped>\n",
       "    .dataframe tbody tr th:only-of-type {\n",
       "        vertical-align: middle;\n",
       "    }\n",
       "\n",
       "    .dataframe tbody tr th {\n",
       "        vertical-align: top;\n",
       "    }\n",
       "\n",
       "    .dataframe thead th {\n",
       "        text-align: right;\n",
       "    }\n",
       "</style>\n",
       "<table border=\"1\" class=\"dataframe\">\n",
       "  <thead>\n",
       "    <tr style=\"text-align: right;\">\n",
       "      <th></th>\n",
       "      <th>doc_id</th>\n",
       "      <th>topic_0</th>\n",
       "      <th>topic_1</th>\n",
       "      <th>topic_2</th>\n",
       "      <th>topic_3</th>\n",
       "      <th>topic_4</th>\n",
       "      <th>topic_5</th>\n",
       "      <th>topic_6</th>\n",
       "      <th>topic_7</th>\n",
       "      <th>topic_8</th>\n",
       "      <th>...</th>\n",
       "      <th>topic_10</th>\n",
       "      <th>topic_11</th>\n",
       "      <th>topic_12</th>\n",
       "      <th>topic_13</th>\n",
       "      <th>topic_14</th>\n",
       "      <th>topic_15</th>\n",
       "      <th>topic_16</th>\n",
       "      <th>topic_17</th>\n",
       "      <th>topic_18</th>\n",
       "      <th>topic_19</th>\n",
       "    </tr>\n",
       "  </thead>\n",
       "  <tbody>\n",
       "    <tr>\n",
       "      <th>0</th>\n",
       "      <td>6</td>\n",
       "      <td>0.0</td>\n",
       "      <td>0.00000</td>\n",
       "      <td>0.000000</td>\n",
       "      <td>0.0</td>\n",
       "      <td>0.000000</td>\n",
       "      <td>0.000000</td>\n",
       "      <td>0.013276</td>\n",
       "      <td>0.0</td>\n",
       "      <td>0.0</td>\n",
       "      <td>...</td>\n",
       "      <td>0.000000</td>\n",
       "      <td>0.000000</td>\n",
       "      <td>0.067991</td>\n",
       "      <td>0.124373</td>\n",
       "      <td>0.000000</td>\n",
       "      <td>0.786279</td>\n",
       "      <td>0.000000</td>\n",
       "      <td>0.000000</td>\n",
       "      <td>0.0</td>\n",
       "      <td>0.0</td>\n",
       "    </tr>\n",
       "    <tr>\n",
       "      <th>1</th>\n",
       "      <td>4896</td>\n",
       "      <td>0.0</td>\n",
       "      <td>0.00000</td>\n",
       "      <td>0.659244</td>\n",
       "      <td>0.0</td>\n",
       "      <td>0.000000</td>\n",
       "      <td>0.000000</td>\n",
       "      <td>0.000000</td>\n",
       "      <td>0.0</td>\n",
       "      <td>0.0</td>\n",
       "      <td>...</td>\n",
       "      <td>0.000000</td>\n",
       "      <td>0.000000</td>\n",
       "      <td>0.317061</td>\n",
       "      <td>0.000000</td>\n",
       "      <td>0.000000</td>\n",
       "      <td>0.000000</td>\n",
       "      <td>0.000000</td>\n",
       "      <td>0.000000</td>\n",
       "      <td>0.0</td>\n",
       "      <td>0.0</td>\n",
       "    </tr>\n",
       "    <tr>\n",
       "      <th>2</th>\n",
       "      <td>4897</td>\n",
       "      <td>0.0</td>\n",
       "      <td>0.00000</td>\n",
       "      <td>0.412112</td>\n",
       "      <td>0.0</td>\n",
       "      <td>0.000000</td>\n",
       "      <td>0.034835</td>\n",
       "      <td>0.000000</td>\n",
       "      <td>0.0</td>\n",
       "      <td>0.0</td>\n",
       "      <td>...</td>\n",
       "      <td>0.000000</td>\n",
       "      <td>0.029597</td>\n",
       "      <td>0.433871</td>\n",
       "      <td>0.000000</td>\n",
       "      <td>0.000000</td>\n",
       "      <td>0.000000</td>\n",
       "      <td>0.000000</td>\n",
       "      <td>0.069274</td>\n",
       "      <td>0.0</td>\n",
       "      <td>0.0</td>\n",
       "    </tr>\n",
       "    <tr>\n",
       "      <th>3</th>\n",
       "      <td>4898</td>\n",
       "      <td>0.0</td>\n",
       "      <td>0.00000</td>\n",
       "      <td>0.000000</td>\n",
       "      <td>0.0</td>\n",
       "      <td>0.000000</td>\n",
       "      <td>0.000000</td>\n",
       "      <td>0.000000</td>\n",
       "      <td>0.0</td>\n",
       "      <td>0.0</td>\n",
       "      <td>...</td>\n",
       "      <td>0.000000</td>\n",
       "      <td>0.000000</td>\n",
       "      <td>0.137787</td>\n",
       "      <td>0.000000</td>\n",
       "      <td>0.850622</td>\n",
       "      <td>0.000000</td>\n",
       "      <td>0.000000</td>\n",
       "      <td>0.000000</td>\n",
       "      <td>0.0</td>\n",
       "      <td>0.0</td>\n",
       "    </tr>\n",
       "    <tr>\n",
       "      <th>4</th>\n",
       "      <td>4899</td>\n",
       "      <td>0.0</td>\n",
       "      <td>0.24296</td>\n",
       "      <td>0.000000</td>\n",
       "      <td>0.0</td>\n",
       "      <td>0.124346</td>\n",
       "      <td>0.000000</td>\n",
       "      <td>0.000000</td>\n",
       "      <td>0.0</td>\n",
       "      <td>0.0</td>\n",
       "      <td>...</td>\n",
       "      <td>0.086087</td>\n",
       "      <td>0.000000</td>\n",
       "      <td>0.145555</td>\n",
       "      <td>0.000000</td>\n",
       "      <td>0.000000</td>\n",
       "      <td>0.175757</td>\n",
       "      <td>0.050651</td>\n",
       "      <td>0.000000</td>\n",
       "      <td>0.0</td>\n",
       "      <td>0.0</td>\n",
       "    </tr>\n",
       "  </tbody>\n",
       "</table>\n",
       "<p>5 rows × 21 columns</p>\n",
       "</div>"
      ],
      "text/plain": [
       "   doc_id  topic_0  topic_1   topic_2  topic_3   topic_4   topic_5   topic_6  \\\n",
       "0       6      0.0  0.00000  0.000000      0.0  0.000000  0.000000  0.013276   \n",
       "1    4896      0.0  0.00000  0.659244      0.0  0.000000  0.000000  0.000000   \n",
       "2    4897      0.0  0.00000  0.412112      0.0  0.000000  0.034835  0.000000   \n",
       "3    4898      0.0  0.00000  0.000000      0.0  0.000000  0.000000  0.000000   \n",
       "4    4899      0.0  0.24296  0.000000      0.0  0.124346  0.000000  0.000000   \n",
       "\n",
       "   topic_7  topic_8  ...  topic_10  topic_11  topic_12  topic_13  topic_14  \\\n",
       "0      0.0      0.0  ...  0.000000  0.000000  0.067991  0.124373  0.000000   \n",
       "1      0.0      0.0  ...  0.000000  0.000000  0.317061  0.000000  0.000000   \n",
       "2      0.0      0.0  ...  0.000000  0.029597  0.433871  0.000000  0.000000   \n",
       "3      0.0      0.0  ...  0.000000  0.000000  0.137787  0.000000  0.850622   \n",
       "4      0.0      0.0  ...  0.086087  0.000000  0.145555  0.000000  0.000000   \n",
       "\n",
       "   topic_15  topic_16  topic_17  topic_18  topic_19  \n",
       "0  0.786279  0.000000  0.000000       0.0       0.0  \n",
       "1  0.000000  0.000000  0.000000       0.0       0.0  \n",
       "2  0.000000  0.000000  0.069274       0.0       0.0  \n",
       "3  0.000000  0.000000  0.000000       0.0       0.0  \n",
       "4  0.175757  0.050651  0.000000       0.0       0.0  \n",
       "\n",
       "[5 rows x 21 columns]"
      ]
     },
     "execution_count": 37,
     "metadata": {},
     "output_type": "execute_result"
    }
   ],
   "source": [
    "topic_matrix.head()"
   ]
  },
  {
   "cell_type": "markdown",
   "metadata": {
    "id": "VUA1PoYtrO0p"
   },
   "source": [
    "Прекрасно, мы получили вектора наших новостей! И даже умеем интерпретировать получившиеся темы.\n",
    "\n",
    "Можно двигаться далее"
   ]
  },
  {
   "cell_type": "markdown",
   "metadata": {
    "id": "IuomDk2XrO0q"
   },
   "source": [
    "### Следующий шаг - векторные представления пользователей"
   ]
  },
  {
   "cell_type": "code",
   "execution_count": 38,
   "metadata": {
    "colab": {
     "base_uri": "https://localhost:8080/",
     "height": 143
    },
    "id": "qoGsZWbFrO0r",
    "outputId": "667c0dbe-67ae-4b26-bacf-fc19777cf600",
    "scrolled": true
   },
   "outputs": [
    {
     "data": {
      "text/html": [
       "<div>\n",
       "<style scoped>\n",
       "    .dataframe tbody tr th:only-of-type {\n",
       "        vertical-align: middle;\n",
       "    }\n",
       "\n",
       "    .dataframe tbody tr th {\n",
       "        vertical-align: top;\n",
       "    }\n",
       "\n",
       "    .dataframe thead th {\n",
       "        text-align: right;\n",
       "    }\n",
       "</style>\n",
       "<table border=\"1\" class=\"dataframe\">\n",
       "  <thead>\n",
       "    <tr style=\"text-align: right;\">\n",
       "      <th></th>\n",
       "      <th>uid</th>\n",
       "      <th>articles</th>\n",
       "    </tr>\n",
       "  </thead>\n",
       "  <tbody>\n",
       "    <tr>\n",
       "      <th>0</th>\n",
       "      <td>u105138</td>\n",
       "      <td>[293672, 293328, 293001, 293622, 293126, 1852]</td>\n",
       "    </tr>\n",
       "    <tr>\n",
       "      <th>1</th>\n",
       "      <td>u108690</td>\n",
       "      <td>[3405, 1739, 2972, 1158, 1599, 322665]</td>\n",
       "    </tr>\n",
       "    <tr>\n",
       "      <th>2</th>\n",
       "      <td>u108339</td>\n",
       "      <td>[1845, 2009, 2356, 1424, 2939, 323389]</td>\n",
       "    </tr>\n",
       "  </tbody>\n",
       "</table>\n",
       "</div>"
      ],
      "text/plain": [
       "       uid                                        articles\n",
       "0  u105138  [293672, 293328, 293001, 293622, 293126, 1852]\n",
       "1  u108690          [3405, 1739, 2972, 1158, 1599, 322665]\n",
       "2  u108339          [1845, 2009, 2356, 1424, 2939, 323389]"
      ]
     },
     "execution_count": 38,
     "metadata": {},
     "output_type": "execute_result"
    }
   ],
   "source": [
    "users.head(3)"
   ]
  },
  {
   "cell_type": "code",
   "execution_count": 39,
   "metadata": {
    "id": "yHXCN3VsrO0s"
   },
   "outputs": [],
   "source": [
    "doc_dict = dict(zip(topic_matrix['doc_id'].values, topic_matrix[[f'topic_{i}' for i in range(N_topic)]].values))"
   ]
  },
  {
   "cell_type": "code",
   "execution_count": 40,
   "metadata": {
    "colab": {
     "base_uri": "https://localhost:8080/"
    },
    "id": "XjdvHAB2rO0t",
    "outputId": "27cd552c-dbc9-48bd-f771-f6a45891a4b3"
   },
   "outputs": [
    {
     "data": {
      "text/plain": [
       "array([0.        , 0.        , 0.        , 0.        , 0.        ,\n",
       "       0.        , 0.        , 0.        , 0.04870906, 0.28828257,\n",
       "       0.        , 0.        , 0.        , 0.        , 0.35696322,\n",
       "       0.21197712, 0.        , 0.        , 0.        , 0.07322214])"
      ]
     },
     "execution_count": 40,
     "metadata": {},
     "output_type": "execute_result"
    }
   ],
   "source": [
    "doc_dict[293672]"
   ]
  },
  {
   "cell_type": "code",
   "execution_count": 41,
   "metadata": {
    "id": "x_M9N6AQrO0u"
   },
   "outputs": [],
   "source": [
    "def get_user_embedding(user_articles_list, doc_dict):\n",
    "    user_articles_list = eval(user_articles_list)\n",
    "    user_vector = np.array([doc_dict[doc_id] for doc_id in user_articles_list])\n",
    "    # print(user_vector)\n",
    "    user_vector = np.mean(user_vector, 0)  # можно не среднее\n",
    "    return user_vector"
   ]
  },
  {
   "cell_type": "code",
   "execution_count": 58,
   "metadata": {
    "colab": {
     "base_uri": "https://localhost:8080/"
    },
    "id": "vflnQMlirO0v",
    "outputId": "8bc59190-92ef-4109-bd69-a0fa687a52cd"
   },
   "outputs": [
    {
     "data": {
      "text/plain": [
       "array([0.01723423, 0.        , 0.06586887, 0.        , 0.        ,\n",
       "       0.01163571, 0.        , 0.03037968, 0.04590611, 0.00169172,\n",
       "       0.01706506, 0.04999568, 0.        , 0.1483445 , 0.10124739,\n",
       "       0.09404631, 0.09797574, 0.08327437, 0.20615264, 0.01639177])"
      ]
     },
     "execution_count": 58,
     "metadata": {},
     "output_type": "execute_result"
    }
   ],
   "source": [
    "user_articles_list = users['articles'].iloc[33]\n",
    "\n",
    "get_user_embedding(user_articles_list, doc_dict)"
   ]
  },
  {
   "cell_type": "markdown",
   "metadata": {
    "id": "jYRrogoNrO0z"
   },
   "source": [
    "Теперь получим эмбединги для всех пользователей и проверим их качество на конкретной downstream-задаче"
   ]
  },
  {
   "cell_type": "code",
   "execution_count": 43,
   "metadata": {
    "colab": {
     "base_uri": "https://localhost:8080/"
    },
    "id": "D4TX-H1trO00",
    "outputId": "ce14e0bc-0bad-4a0f-9063-01049430d9d8"
   },
   "outputs": [
    {
     "name": "stdout",
     "output_type": "stream",
     "text": [
      "CPU times: user 737 ms, sys: 7.97 ms, total: 745 ms\n",
      "Wall time: 745 ms\n"
     ]
    },
    {
     "data": {
      "text/html": [
       "<div>\n",
       "<style scoped>\n",
       "    .dataframe tbody tr th:only-of-type {\n",
       "        vertical-align: middle;\n",
       "    }\n",
       "\n",
       "    .dataframe tbody tr th {\n",
       "        vertical-align: top;\n",
       "    }\n",
       "\n",
       "    .dataframe thead th {\n",
       "        text-align: right;\n",
       "    }\n",
       "</style>\n",
       "<table border=\"1\" class=\"dataframe\">\n",
       "  <thead>\n",
       "    <tr style=\"text-align: right;\">\n",
       "      <th></th>\n",
       "      <th>uid</th>\n",
       "      <th>topic_0</th>\n",
       "      <th>topic_1</th>\n",
       "      <th>topic_2</th>\n",
       "      <th>topic_3</th>\n",
       "      <th>topic_4</th>\n",
       "      <th>topic_5</th>\n",
       "      <th>topic_6</th>\n",
       "      <th>topic_7</th>\n",
       "      <th>topic_8</th>\n",
       "      <th>...</th>\n",
       "      <th>topic_10</th>\n",
       "      <th>topic_11</th>\n",
       "      <th>topic_12</th>\n",
       "      <th>topic_13</th>\n",
       "      <th>topic_14</th>\n",
       "      <th>topic_15</th>\n",
       "      <th>topic_16</th>\n",
       "      <th>topic_17</th>\n",
       "      <th>topic_18</th>\n",
       "      <th>topic_19</th>\n",
       "    </tr>\n",
       "  </thead>\n",
       "  <tbody>\n",
       "    <tr>\n",
       "      <th>0</th>\n",
       "      <td>u105138</td>\n",
       "      <td>0.006939</td>\n",
       "      <td>0.000000</td>\n",
       "      <td>0.088038</td>\n",
       "      <td>0.0</td>\n",
       "      <td>0.000000</td>\n",
       "      <td>0.005097</td>\n",
       "      <td>0.000000</td>\n",
       "      <td>0.000000</td>\n",
       "      <td>0.008118</td>\n",
       "      <td>...</td>\n",
       "      <td>0.014093</td>\n",
       "      <td>0.010398</td>\n",
       "      <td>0.038759</td>\n",
       "      <td>0.234649</td>\n",
       "      <td>0.238531</td>\n",
       "      <td>0.071842</td>\n",
       "      <td>0.044227</td>\n",
       "      <td>0.015227</td>\n",
       "      <td>0.058238</td>\n",
       "      <td>0.027427</td>\n",
       "    </tr>\n",
       "    <tr>\n",
       "      <th>1</th>\n",
       "      <td>u108690</td>\n",
       "      <td>0.012884</td>\n",
       "      <td>0.000000</td>\n",
       "      <td>0.122642</td>\n",
       "      <td>0.0</td>\n",
       "      <td>0.011529</td>\n",
       "      <td>0.009849</td>\n",
       "      <td>0.004976</td>\n",
       "      <td>0.004213</td>\n",
       "      <td>0.018433</td>\n",
       "      <td>...</td>\n",
       "      <td>0.013478</td>\n",
       "      <td>0.003260</td>\n",
       "      <td>0.002477</td>\n",
       "      <td>0.209845</td>\n",
       "      <td>0.123488</td>\n",
       "      <td>0.104740</td>\n",
       "      <td>0.066101</td>\n",
       "      <td>0.069120</td>\n",
       "      <td>0.160544</td>\n",
       "      <td>0.008159</td>\n",
       "    </tr>\n",
       "    <tr>\n",
       "      <th>2</th>\n",
       "      <td>u108339</td>\n",
       "      <td>0.019246</td>\n",
       "      <td>0.004747</td>\n",
       "      <td>0.117400</td>\n",
       "      <td>0.0</td>\n",
       "      <td>0.019412</td>\n",
       "      <td>0.005676</td>\n",
       "      <td>0.004535</td>\n",
       "      <td>0.011549</td>\n",
       "      <td>0.022296</td>\n",
       "      <td>...</td>\n",
       "      <td>0.006454</td>\n",
       "      <td>0.007554</td>\n",
       "      <td>0.004430</td>\n",
       "      <td>0.189385</td>\n",
       "      <td>0.050328</td>\n",
       "      <td>0.068506</td>\n",
       "      <td>0.132138</td>\n",
       "      <td>0.040951</td>\n",
       "      <td>0.172431</td>\n",
       "      <td>0.005831</td>\n",
       "    </tr>\n",
       "  </tbody>\n",
       "</table>\n",
       "<p>3 rows × 21 columns</p>\n",
       "</div>"
      ],
      "text/plain": [
       "       uid   topic_0   topic_1   topic_2  topic_3   topic_4   topic_5  \\\n",
       "0  u105138  0.006939  0.000000  0.088038      0.0  0.000000  0.005097   \n",
       "1  u108690  0.012884  0.000000  0.122642      0.0  0.011529  0.009849   \n",
       "2  u108339  0.019246  0.004747  0.117400      0.0  0.019412  0.005676   \n",
       "\n",
       "    topic_6   topic_7   topic_8  ...  topic_10  topic_11  topic_12  topic_13  \\\n",
       "0  0.000000  0.000000  0.008118  ...  0.014093  0.010398  0.038759  0.234649   \n",
       "1  0.004976  0.004213  0.018433  ...  0.013478  0.003260  0.002477  0.209845   \n",
       "2  0.004535  0.011549  0.022296  ...  0.006454  0.007554  0.004430  0.189385   \n",
       "\n",
       "   topic_14  topic_15  topic_16  topic_17  topic_18  topic_19  \n",
       "0  0.238531  0.071842  0.044227  0.015227  0.058238  0.027427  \n",
       "1  0.123488  0.104740  0.066101  0.069120  0.160544  0.008159  \n",
       "2  0.050328  0.068506  0.132138  0.040951  0.172431  0.005831  \n",
       "\n",
       "[3 rows x 21 columns]"
      ]
     },
     "execution_count": 43,
     "metadata": {},
     "output_type": "execute_result"
    }
   ],
   "source": [
    "%%time\n",
    "user_embeddings = pd.DataFrame([i for i in users['articles'].apply(lambda x: get_user_embedding(x, doc_dict))])\n",
    "user_embeddings.columns = [f'topic_{i}' for i in range(N_topic)]\n",
    "user_embeddings['uid'] = users['uid'].values\n",
    "user_embeddings = user_embeddings[['uid']+[f'topic_{i}' for i in range(N_topic)]]\n",
    "user_embeddings.head(3)"
   ]
  },
  {
   "cell_type": "code",
   "execution_count": 44,
   "metadata": {
    "colab": {
     "base_uri": "https://localhost:8080/",
     "height": 299
    },
    "id": "f2j0Ze11b9lK",
    "outputId": "39daaf04-0175-464f-f894-573b2484c273"
   },
   "outputs": [
    {
     "data": {
      "text/html": [
       "<div>\n",
       "<style scoped>\n",
       "    .dataframe tbody tr th:only-of-type {\n",
       "        vertical-align: middle;\n",
       "    }\n",
       "\n",
       "    .dataframe tbody tr th {\n",
       "        vertical-align: top;\n",
       "    }\n",
       "\n",
       "    .dataframe thead th {\n",
       "        text-align: right;\n",
       "    }\n",
       "</style>\n",
       "<table border=\"1\" class=\"dataframe\">\n",
       "  <thead>\n",
       "    <tr style=\"text-align: right;\">\n",
       "      <th></th>\n",
       "      <th>uid</th>\n",
       "      <th>topic_0</th>\n",
       "      <th>topic_1</th>\n",
       "      <th>topic_2</th>\n",
       "      <th>topic_3</th>\n",
       "      <th>topic_4</th>\n",
       "      <th>topic_5</th>\n",
       "      <th>topic_6</th>\n",
       "      <th>topic_7</th>\n",
       "      <th>topic_8</th>\n",
       "      <th>...</th>\n",
       "      <th>topic_10</th>\n",
       "      <th>topic_11</th>\n",
       "      <th>topic_12</th>\n",
       "      <th>topic_13</th>\n",
       "      <th>topic_14</th>\n",
       "      <th>topic_15</th>\n",
       "      <th>topic_16</th>\n",
       "      <th>topic_17</th>\n",
       "      <th>topic_18</th>\n",
       "      <th>topic_19</th>\n",
       "    </tr>\n",
       "  </thead>\n",
       "  <tbody>\n",
       "    <tr>\n",
       "      <th>0</th>\n",
       "      <td>u105138</td>\n",
       "      <td>0.006939</td>\n",
       "      <td>0.000000</td>\n",
       "      <td>0.088038</td>\n",
       "      <td>0.0</td>\n",
       "      <td>0.000000</td>\n",
       "      <td>0.005097</td>\n",
       "      <td>0.000000</td>\n",
       "      <td>0.000000</td>\n",
       "      <td>0.008118</td>\n",
       "      <td>...</td>\n",
       "      <td>0.014093</td>\n",
       "      <td>0.010398</td>\n",
       "      <td>0.038759</td>\n",
       "      <td>0.234649</td>\n",
       "      <td>0.238531</td>\n",
       "      <td>0.071842</td>\n",
       "      <td>0.044227</td>\n",
       "      <td>0.015227</td>\n",
       "      <td>0.058238</td>\n",
       "      <td>0.027427</td>\n",
       "    </tr>\n",
       "    <tr>\n",
       "      <th>1</th>\n",
       "      <td>u108690</td>\n",
       "      <td>0.012884</td>\n",
       "      <td>0.000000</td>\n",
       "      <td>0.122642</td>\n",
       "      <td>0.0</td>\n",
       "      <td>0.011529</td>\n",
       "      <td>0.009849</td>\n",
       "      <td>0.004976</td>\n",
       "      <td>0.004213</td>\n",
       "      <td>0.018433</td>\n",
       "      <td>...</td>\n",
       "      <td>0.013478</td>\n",
       "      <td>0.003260</td>\n",
       "      <td>0.002477</td>\n",
       "      <td>0.209845</td>\n",
       "      <td>0.123488</td>\n",
       "      <td>0.104740</td>\n",
       "      <td>0.066101</td>\n",
       "      <td>0.069120</td>\n",
       "      <td>0.160544</td>\n",
       "      <td>0.008159</td>\n",
       "    </tr>\n",
       "    <tr>\n",
       "      <th>2</th>\n",
       "      <td>u108339</td>\n",
       "      <td>0.019246</td>\n",
       "      <td>0.004747</td>\n",
       "      <td>0.117400</td>\n",
       "      <td>0.0</td>\n",
       "      <td>0.019412</td>\n",
       "      <td>0.005676</td>\n",
       "      <td>0.004535</td>\n",
       "      <td>0.011549</td>\n",
       "      <td>0.022296</td>\n",
       "      <td>...</td>\n",
       "      <td>0.006454</td>\n",
       "      <td>0.007554</td>\n",
       "      <td>0.004430</td>\n",
       "      <td>0.189385</td>\n",
       "      <td>0.050328</td>\n",
       "      <td>0.068506</td>\n",
       "      <td>0.132138</td>\n",
       "      <td>0.040951</td>\n",
       "      <td>0.172431</td>\n",
       "      <td>0.005831</td>\n",
       "    </tr>\n",
       "    <tr>\n",
       "      <th>3</th>\n",
       "      <td>u101138</td>\n",
       "      <td>0.003755</td>\n",
       "      <td>0.007877</td>\n",
       "      <td>0.058924</td>\n",
       "      <td>0.0</td>\n",
       "      <td>0.036541</td>\n",
       "      <td>0.165158</td>\n",
       "      <td>0.173530</td>\n",
       "      <td>0.000000</td>\n",
       "      <td>0.000000</td>\n",
       "      <td>...</td>\n",
       "      <td>0.000000</td>\n",
       "      <td>0.002108</td>\n",
       "      <td>0.143239</td>\n",
       "      <td>0.077713</td>\n",
       "      <td>0.126869</td>\n",
       "      <td>0.018705</td>\n",
       "      <td>0.002330</td>\n",
       "      <td>0.019937</td>\n",
       "      <td>0.059117</td>\n",
       "      <td>0.089873</td>\n",
       "    </tr>\n",
       "    <tr>\n",
       "      <th>4</th>\n",
       "      <td>u108248</td>\n",
       "      <td>0.009012</td>\n",
       "      <td>0.001838</td>\n",
       "      <td>0.101651</td>\n",
       "      <td>0.0</td>\n",
       "      <td>0.009601</td>\n",
       "      <td>0.000000</td>\n",
       "      <td>0.004192</td>\n",
       "      <td>0.000000</td>\n",
       "      <td>0.041703</td>\n",
       "      <td>...</td>\n",
       "      <td>0.030989</td>\n",
       "      <td>0.036586</td>\n",
       "      <td>0.025836</td>\n",
       "      <td>0.270764</td>\n",
       "      <td>0.085072</td>\n",
       "      <td>0.125192</td>\n",
       "      <td>0.029164</td>\n",
       "      <td>0.030046</td>\n",
       "      <td>0.121160</td>\n",
       "      <td>0.007919</td>\n",
       "    </tr>\n",
       "  </tbody>\n",
       "</table>\n",
       "<p>5 rows × 21 columns</p>\n",
       "</div>"
      ],
      "text/plain": [
       "       uid   topic_0   topic_1   topic_2  topic_3   topic_4   topic_5  \\\n",
       "0  u105138  0.006939  0.000000  0.088038      0.0  0.000000  0.005097   \n",
       "1  u108690  0.012884  0.000000  0.122642      0.0  0.011529  0.009849   \n",
       "2  u108339  0.019246  0.004747  0.117400      0.0  0.019412  0.005676   \n",
       "3  u101138  0.003755  0.007877  0.058924      0.0  0.036541  0.165158   \n",
       "4  u108248  0.009012  0.001838  0.101651      0.0  0.009601  0.000000   \n",
       "\n",
       "    topic_6   topic_7   topic_8  ...  topic_10  topic_11  topic_12  topic_13  \\\n",
       "0  0.000000  0.000000  0.008118  ...  0.014093  0.010398  0.038759  0.234649   \n",
       "1  0.004976  0.004213  0.018433  ...  0.013478  0.003260  0.002477  0.209845   \n",
       "2  0.004535  0.011549  0.022296  ...  0.006454  0.007554  0.004430  0.189385   \n",
       "3  0.173530  0.000000  0.000000  ...  0.000000  0.002108  0.143239  0.077713   \n",
       "4  0.004192  0.000000  0.041703  ...  0.030989  0.036586  0.025836  0.270764   \n",
       "\n",
       "   topic_14  topic_15  topic_16  topic_17  topic_18  topic_19  \n",
       "0  0.238531  0.071842  0.044227  0.015227  0.058238  0.027427  \n",
       "1  0.123488  0.104740  0.066101  0.069120  0.160544  0.008159  \n",
       "2  0.050328  0.068506  0.132138  0.040951  0.172431  0.005831  \n",
       "3  0.126869  0.018705  0.002330  0.019937  0.059117  0.089873  \n",
       "4  0.085072  0.125192  0.029164  0.030046  0.121160  0.007919  \n",
       "\n",
       "[5 rows x 21 columns]"
      ]
     },
     "execution_count": 44,
     "metadata": {},
     "output_type": "execute_result"
    }
   ],
   "source": [
    "user_embeddings.head()"
   ]
  },
  {
   "cell_type": "markdown",
   "metadata": {
    "id": "sNz_0xHmrO01"
   },
   "source": [
    "Датасет готов - можно попробовать обучить модель. Загрузим нашу разметку"
   ]
  },
  {
   "cell_type": "code",
   "execution_count": 45,
   "metadata": {
    "colab": {
     "base_uri": "https://localhost:8080/"
    },
    "id": "MT74Vkzu_9Rx",
    "outputId": "1001ef01-e950-48e7-c555-a4500ab30e6c"
   },
   "outputs": [
    {
     "name": "stdout",
     "output_type": "stream",
     "text": [
      "--2022-03-29 16:44:40--  https://drive.google.com/uc?export=download&id=1nWKteQgEr9Rl8CwTRY7N2f7igevNH7oK\n",
      "Распознаётся drive.google.com (drive.google.com)... 216.58.207.238, 2a00:1450:400f:80c::200e\n",
      "Подключение к drive.google.com (drive.google.com)|216.58.207.238|:443... соединение установлено.\n",
      "HTTP-запрос отправлен. Ожидание ответа... 303 See Other\n",
      "Адрес: https://doc-0k-c0-docs.googleusercontent.com/docs/securesc/ha0ro937gcuc7l7deffksulhg5h7mbp1/53velnqnefps3v8kdkjtulmiae9uhovt/1648561425000/14904333240138417226/*/1nWKteQgEr9Rl8CwTRY7N2f7igevNH7oK?e=download [переход]\n",
      "Предупреждение: в HTTP шаблоны не поддерживаются.\n",
      "--2022-03-29 16:44:41--  https://doc-0k-c0-docs.googleusercontent.com/docs/securesc/ha0ro937gcuc7l7deffksulhg5h7mbp1/53velnqnefps3v8kdkjtulmiae9uhovt/1648561425000/14904333240138417226/*/1nWKteQgEr9Rl8CwTRY7N2f7igevNH7oK?e=download\n",
      "Распознаётся doc-0k-c0-docs.googleusercontent.com (doc-0k-c0-docs.googleusercontent.com)... 142.250.74.65, 2a00:1450:400f:802::2001\n",
      "Подключение к doc-0k-c0-docs.googleusercontent.com (doc-0k-c0-docs.googleusercontent.com)|142.250.74.65|:443... соединение установлено.\n",
      "HTTP-запрос отправлен. Ожидание ответа... 200 OK\n",
      "Длина: 80010 (78K) [text/csv]\n",
      "Сохранение в каталог: ««users_churn.csv»».\n",
      "\n",
      "users_churn.csv     100%[===================>]  78,13K  --.-KB/s    за 0,1s    \n",
      "\n",
      "2022-03-29 16:44:42 (758 KB/s) - «users_churn.csv» сохранён [80010/80010]\n",
      "\n"
     ]
    }
   ],
   "source": [
    "!wget 'https://drive.google.com/uc?export=download&id=1nWKteQgEr9Rl8CwTRY7N2f7igevNH7oK' -O users_churn.csv"
   ]
  },
  {
   "cell_type": "code",
   "execution_count": 46,
   "metadata": {
    "colab": {
     "base_uri": "https://localhost:8080/",
     "height": 143
    },
    "id": "D9jwMilJrO01",
    "outputId": "90e800cd-da10-47f5-9d7b-51f88c6e1ca6"
   },
   "outputs": [
    {
     "data": {
      "text/html": [
       "<div>\n",
       "<style scoped>\n",
       "    .dataframe tbody tr th:only-of-type {\n",
       "        vertical-align: middle;\n",
       "    }\n",
       "\n",
       "    .dataframe tbody tr th {\n",
       "        vertical-align: top;\n",
       "    }\n",
       "\n",
       "    .dataframe thead th {\n",
       "        text-align: right;\n",
       "    }\n",
       "</style>\n",
       "<table border=\"1\" class=\"dataframe\">\n",
       "  <thead>\n",
       "    <tr style=\"text-align: right;\">\n",
       "      <th></th>\n",
       "      <th>uid</th>\n",
       "      <th>churn</th>\n",
       "    </tr>\n",
       "  </thead>\n",
       "  <tbody>\n",
       "    <tr>\n",
       "      <th>0</th>\n",
       "      <td>u107120</td>\n",
       "      <td>0</td>\n",
       "    </tr>\n",
       "    <tr>\n",
       "      <th>1</th>\n",
       "      <td>u102277</td>\n",
       "      <td>0</td>\n",
       "    </tr>\n",
       "    <tr>\n",
       "      <th>2</th>\n",
       "      <td>u102444</td>\n",
       "      <td>0</td>\n",
       "    </tr>\n",
       "  </tbody>\n",
       "</table>\n",
       "</div>"
      ],
      "text/plain": [
       "       uid  churn\n",
       "0  u107120      0\n",
       "1  u102277      0\n",
       "2  u102444      0"
      ]
     },
     "execution_count": 46,
     "metadata": {},
     "output_type": "execute_result"
    }
   ],
   "source": [
    "target = pd.read_csv(\"users_churn.csv\")\n",
    "target.head(3)"
   ]
  },
  {
   "cell_type": "code",
   "execution_count": 47,
   "metadata": {
    "colab": {
     "base_uri": "https://localhost:8080/",
     "height": 237
    },
    "id": "8QbVcdI4rO02",
    "outputId": "74e46a67-7107-40c4-c713-4142b392dfa0"
   },
   "outputs": [
    {
     "data": {
      "text/html": [
       "<div>\n",
       "<style scoped>\n",
       "    .dataframe tbody tr th:only-of-type {\n",
       "        vertical-align: middle;\n",
       "    }\n",
       "\n",
       "    .dataframe tbody tr th {\n",
       "        vertical-align: top;\n",
       "    }\n",
       "\n",
       "    .dataframe thead th {\n",
       "        text-align: right;\n",
       "    }\n",
       "</style>\n",
       "<table border=\"1\" class=\"dataframe\">\n",
       "  <thead>\n",
       "    <tr style=\"text-align: right;\">\n",
       "      <th></th>\n",
       "      <th>uid</th>\n",
       "      <th>topic_0</th>\n",
       "      <th>topic_1</th>\n",
       "      <th>topic_2</th>\n",
       "      <th>topic_3</th>\n",
       "      <th>topic_4</th>\n",
       "      <th>topic_5</th>\n",
       "      <th>topic_6</th>\n",
       "      <th>topic_7</th>\n",
       "      <th>topic_8</th>\n",
       "      <th>...</th>\n",
       "      <th>topic_11</th>\n",
       "      <th>topic_12</th>\n",
       "      <th>topic_13</th>\n",
       "      <th>topic_14</th>\n",
       "      <th>topic_15</th>\n",
       "      <th>topic_16</th>\n",
       "      <th>topic_17</th>\n",
       "      <th>topic_18</th>\n",
       "      <th>topic_19</th>\n",
       "      <th>churn</th>\n",
       "    </tr>\n",
       "  </thead>\n",
       "  <tbody>\n",
       "    <tr>\n",
       "      <th>0</th>\n",
       "      <td>u105138</td>\n",
       "      <td>0.006939</td>\n",
       "      <td>0.000000</td>\n",
       "      <td>0.088038</td>\n",
       "      <td>0.0</td>\n",
       "      <td>0.000000</td>\n",
       "      <td>0.005097</td>\n",
       "      <td>0.000000</td>\n",
       "      <td>0.000000</td>\n",
       "      <td>0.008118</td>\n",
       "      <td>...</td>\n",
       "      <td>0.010398</td>\n",
       "      <td>0.038759</td>\n",
       "      <td>0.234649</td>\n",
       "      <td>0.238531</td>\n",
       "      <td>0.071842</td>\n",
       "      <td>0.044227</td>\n",
       "      <td>0.015227</td>\n",
       "      <td>0.058238</td>\n",
       "      <td>0.027427</td>\n",
       "      <td>0</td>\n",
       "    </tr>\n",
       "    <tr>\n",
       "      <th>1</th>\n",
       "      <td>u108690</td>\n",
       "      <td>0.012884</td>\n",
       "      <td>0.000000</td>\n",
       "      <td>0.122642</td>\n",
       "      <td>0.0</td>\n",
       "      <td>0.011529</td>\n",
       "      <td>0.009849</td>\n",
       "      <td>0.004976</td>\n",
       "      <td>0.004213</td>\n",
       "      <td>0.018433</td>\n",
       "      <td>...</td>\n",
       "      <td>0.003260</td>\n",
       "      <td>0.002477</td>\n",
       "      <td>0.209845</td>\n",
       "      <td>0.123488</td>\n",
       "      <td>0.104740</td>\n",
       "      <td>0.066101</td>\n",
       "      <td>0.069120</td>\n",
       "      <td>0.160544</td>\n",
       "      <td>0.008159</td>\n",
       "      <td>1</td>\n",
       "    </tr>\n",
       "    <tr>\n",
       "      <th>2</th>\n",
       "      <td>u108339</td>\n",
       "      <td>0.019246</td>\n",
       "      <td>0.004747</td>\n",
       "      <td>0.117400</td>\n",
       "      <td>0.0</td>\n",
       "      <td>0.019412</td>\n",
       "      <td>0.005676</td>\n",
       "      <td>0.004535</td>\n",
       "      <td>0.011549</td>\n",
       "      <td>0.022296</td>\n",
       "      <td>...</td>\n",
       "      <td>0.007554</td>\n",
       "      <td>0.004430</td>\n",
       "      <td>0.189385</td>\n",
       "      <td>0.050328</td>\n",
       "      <td>0.068506</td>\n",
       "      <td>0.132138</td>\n",
       "      <td>0.040951</td>\n",
       "      <td>0.172431</td>\n",
       "      <td>0.005831</td>\n",
       "      <td>1</td>\n",
       "    </tr>\n",
       "  </tbody>\n",
       "</table>\n",
       "<p>3 rows × 22 columns</p>\n",
       "</div>"
      ],
      "text/plain": [
       "       uid   topic_0   topic_1   topic_2  topic_3   topic_4   topic_5  \\\n",
       "0  u105138  0.006939  0.000000  0.088038      0.0  0.000000  0.005097   \n",
       "1  u108690  0.012884  0.000000  0.122642      0.0  0.011529  0.009849   \n",
       "2  u108339  0.019246  0.004747  0.117400      0.0  0.019412  0.005676   \n",
       "\n",
       "    topic_6   topic_7   topic_8  ...  topic_11  topic_12  topic_13  topic_14  \\\n",
       "0  0.000000  0.000000  0.008118  ...  0.010398  0.038759  0.234649  0.238531   \n",
       "1  0.004976  0.004213  0.018433  ...  0.003260  0.002477  0.209845  0.123488   \n",
       "2  0.004535  0.011549  0.022296  ...  0.007554  0.004430  0.189385  0.050328   \n",
       "\n",
       "   topic_15  topic_16  topic_17  topic_18  topic_19  churn  \n",
       "0  0.071842  0.044227  0.015227  0.058238  0.027427      0  \n",
       "1  0.104740  0.066101  0.069120  0.160544  0.008159      1  \n",
       "2  0.068506  0.132138  0.040951  0.172431  0.005831      1  \n",
       "\n",
       "[3 rows x 22 columns]"
      ]
     },
     "execution_count": 47,
     "metadata": {},
     "output_type": "execute_result"
    }
   ],
   "source": [
    "X = pd.merge(user_embeddings, target, 'left')\n",
    "X.head(3)"
   ]
  },
  {
   "cell_type": "code",
   "execution_count": 48,
   "metadata": {
    "id": "U6c1-0YIrO02"
   },
   "outputs": [],
   "source": [
    "from sklearn.linear_model import LogisticRegression\n",
    "from sklearn.model_selection import train_test_split\n",
    "\n",
    "import matplotlib.pyplot as plt"
   ]
  },
  {
   "cell_type": "code",
   "execution_count": 49,
   "metadata": {
    "id": "aKNKOn9srO03"
   },
   "outputs": [],
   "source": [
    "# разделим данные на train/test\n",
    "X_train, X_test, y_train, y_test = train_test_split(X[[f'topic_{i}' for i in range(N_topic)]], \n",
    "                                                    X['churn'], random_state=0)"
   ]
  },
  {
   "cell_type": "code",
   "execution_count": 50,
   "metadata": {
    "colab": {
     "base_uri": "https://localhost:8080/"
    },
    "id": "8TujsSGprO04",
    "outputId": "12892df7-10b6-45c4-93d4-8ccddee985a9"
   },
   "outputs": [
    {
     "data": {
      "text/plain": [
       "LogisticRegression()"
      ]
     },
     "execution_count": 50,
     "metadata": {},
     "output_type": "execute_result"
    }
   ],
   "source": [
    "logreg = LogisticRegression()\n",
    "# обучим \n",
    "logreg.fit(X_train, y_train)"
   ]
  },
  {
   "cell_type": "code",
   "execution_count": 51,
   "metadata": {
    "colab": {
     "base_uri": "https://localhost:8080/"
    },
    "id": "cB9Y-S0mrO06",
    "outputId": "8388dfca-9519-4d9c-b3ce-3e4ec4f0c07e"
   },
   "outputs": [
    {
     "data": {
      "text/plain": [
       "array([0.23267504, 0.04433915, 0.40375371, 0.09493141, 0.05671475,\n",
       "       0.14842944, 0.10032907, 0.05910377, 0.12454464, 0.10387934])"
      ]
     },
     "execution_count": 51,
     "metadata": {},
     "output_type": "execute_result"
    }
   ],
   "source": [
    "# наши прогнозы для тестовой выборки\n",
    "preds = logreg.predict_proba(X_test)[:, 1]\n",
    "preds[:10]"
   ]
  },
  {
   "cell_type": "markdown",
   "metadata": {
    "id": "HZ9S0UIGrO0-"
   },
   "source": [
    "### Рассчитаем Precision, Recall, F_score"
   ]
  },
  {
   "cell_type": "code",
   "execution_count": 52,
   "metadata": {
    "id": "29MnGc_B5bTY"
   },
   "outputs": [],
   "source": [
    "from sklearn.metrics import (f1_score, roc_auc_score, precision_score,\n",
    "                             classification_report, precision_recall_curve, confusion_matrix)"
   ]
  },
  {
   "cell_type": "code",
   "execution_count": 53,
   "metadata": {
    "colab": {
     "base_uri": "https://localhost:8080/",
     "height": 404
    },
    "id": "62YZTfa1AhsW",
    "outputId": "0e497cda-2fd9-4aa5-ecf4-efe522594912"
   },
   "outputs": [
    {
     "data": {
      "image/png": "[encoded data removed]",
      "text/plain": [
       "<Figure size 720x432 with 1 Axes>"
      ]
     },
     "metadata": {
      "needs_background": "light"
     },
     "output_type": "display_data"
    }
   ],
   "source": [
    "n = 50\n",
    "plt.figure(figsize=(10, 6))\n",
    "plt.plot(preds[:n], label='predict')\n",
    "plt.plot(y_test.values[:n], label='true')\n",
    "plt.title('ответ модели')\n",
    "plt.xlabel('№ примера')\n",
    "plt.ylabel('выход')\n",
    "plt.legend()\n",
    "plt.grid('On')\n",
    "plt.show()"
   ]
  },
  {
   "cell_type": "code",
   "execution_count": 54,
   "metadata": {
    "colab": {
     "base_uri": "https://localhost:8080/"
    },
    "id": "nOw4lCrhrO0_",
    "outputId": "de227500-2aa2-4bd4-c0fc-74bfeff47053"
   },
   "outputs": [
    {
     "name": "stdout",
     "output_type": "stream",
     "text": [
      "Best Threshold=0.25729114245640783, F-Score=0.712, Precision=0.647, Recall=0.792\n"
     ]
    }
   ],
   "source": [
    "precision, recall, thresholds = precision_recall_curve(y_test, preds)\n",
    "fscore = (2 * precision * recall) / (precision + recall)\n",
    "# locate the index of the largest f score\n",
    "ix = np.argmax(fscore)\n",
    "print(f'Best Threshold={thresholds[ix]}, F-Score={fscore[ix]:.3f}, Precision={precision[ix]:.3f}, Recall={recall[ix]:.3f}')                                                                        "
   ]
  },
  {
   "cell_type": "code",
   "execution_count": 55,
   "metadata": {
    "id": "4_7clnabrO1A"
   },
   "outputs": [],
   "source": [
    "def plot_confusion_matrix(cm, classes,\n",
    "                          normalize=False,\n",
    "                          title='Confusion matrix',\n",
    "                          cmap=plt.cm.Blues):\n",
    "    \"\"\"\n",
    "    This function prints and plots the confusion matrix.\n",
    "    Normalization can be applied by setting `normalize=True`.\n",
    "    \"\"\"\n",
    "    plt.imshow(cm, interpolation='nearest', cmap=cmap)\n",
    "    plt.title(title)\n",
    "    plt.colorbar()\n",
    "    tick_marks = np.arange(len(classes))\n",
    "    plt.xticks(tick_marks, classes, rotation=45)\n",
    "    plt.yticks(tick_marks, classes)\n",
    "\n",
    "    if normalize:\n",
    "        cm = cm.astype('float') / cm.sum(axis=1)[:, np.newaxis]\n",
    "        print(\"Normalized confusion matrix\")\n",
    "    else:\n",
    "        print('Confusion matrix, without normalization')\n",
    "\n",
    "    print(cm)\n",
    "\n",
    "    thresh = cm.max() / 2.\n",
    "    for i, j in itertools.product(range(cm.shape[0]), range(cm.shape[1])):\n",
    "        plt.text(j, i, cm[i, j],\n",
    "                 horizontalalignment=\"center\",\n",
    "                 color=\"white\" if cm[i, j] > thresh else \"black\")\n",
    "\n",
    "    plt.tight_layout()\n",
    "    plt.ylabel('True label')\n",
    "    plt.xlabel('Predicted label')"
   ]
  },
  {
   "cell_type": "code",
   "execution_count": 56,
   "metadata": {
    "colab": {
     "base_uri": "https://localhost:8080/",
     "height": 645
    },
    "id": "XmsG89_srO1B",
    "outputId": "796b5505-8fd2-468a-e4e2-ee4f79215c29"
   },
   "outputs": [
    {
     "name": "stdout",
     "output_type": "stream",
     "text": [
      "Confusion matrix, without normalization\n",
      "[[1649  106]\n",
      " [  52  193]]\n"
     ]
    },
    {
     "data": {
      "image/png": "[encoded data removed]",
      "text/plain": [
       "<Figure size 720x576 with 2 Axes>"
      ]
     },
     "metadata": {
      "needs_background": "light"
     },
     "output_type": "display_data"
    }
   ],
   "source": [
    "import itertools\n",
    "# мы уже нашли ранее \"оптимальный\" порог, когда максимизировали f_score\n",
    "font = {'size' : 15}\n",
    "\n",
    "plt.rc('font', **font)\n",
    "\n",
    "cnf_matrix = confusion_matrix(y_test, preds > thresholds[ix])\n",
    "\n",
    "plt.figure(figsize=(10, 8))\n",
    "plot_confusion_matrix(cnf_matrix, classes=['Non-Churn', 'churn'],\n",
    "                      title='Confusion matrix')\n",
    "plt.savefig(\"conf_matrix.png\")\n",
    "plt.show()"
   ]
  },
  {
   "cell_type": "code",
   "execution_count": 57,
   "metadata": {
    "colab": {
     "base_uri": "https://localhost:8080/"
    },
    "id": "q8RA79RJrO1C",
    "outputId": "429318bf-20fd-4485-e648-8d3024327ee4"
   },
   "outputs": [
    {
     "data": {
      "text/plain": [
       "0.9553276353276353"
      ]
     },
     "execution_count": 57,
     "metadata": {},
     "output_type": "execute_result"
    }
   ],
   "source": [
    "roc_auc_score(y_test, preds)"
   ]
  },
  {
   "cell_type": "markdown",
   "metadata": {
    "id": "zIAPv0qyrO1E"
   },
   "source": [
    "## Домашнее задание\n",
    "\n",
    "1. *Самостоятельно повторить tfidf (документация https://scikit-learn.org/stable/modules/generated/sklearn.feature_extraction.text.TfidfVectorizer.html)\n",
    "2. Модифицировать код функции get_user_embedding таким образом, чтобы считалось не среднее (как в примере np.mean), а медиана. Применить такое преобразование к данным, обучить модель прогнозирования оттока и посчитать метрики качества и сохранить их: roc auc, precision/recall/f_score (для 3 последних - подобрать оптимальный порог)\n",
    "3. Повторить п.2, но используя уже не медиану, а max\n",
    "4. *Воспользовавшись полученными знаниями из п.1, повторить пункт 2, но уже взвешивая новости по tfidf (взяв список новостей пользователя)\n",
    "    - подсказка 1: нужно получить веса-коэффициенты для каждого документа. Не все документы одинаково информативны и несут какой-то положительный сигнал\n",
    "    - подсказка 2: нужен именно idf, как вес.\n",
    "5. Сформировать на выходе единую таблицу, сравнивающую качество 2/3 разных метода получения эмбедингов пользователей: median, max, idf_mean по метрикам roc_auc, precision, recall, f_score\n",
    "6. Сделать самостоятельные выводы и предположения о том, почему тот или ной способ оказался эффективнее остальных"
   ]
  },
  {
   "cell_type": "markdown",
   "metadata": {
    "id": "6SG3_MJ7rO1F"
   },
   "source": [
    "## Дополнительные ссылки"
   ]
  },
  {
   "cell_type": "markdown",
   "metadata": {
    "id": "YMKShzIirO1G"
   },
   "source": [
    "1. http://www.machinelearning.ru/wiki/images/d/d5/Voron17survey-artm.pdf\n",
    "2. https://en.wikipedia.org/wiki/Latent_Dirichlet_allocation\n",
    "3. http://blog.echen.me/2011/08/22/introduction-to-latent-dirichlet-allocation/"
   ]
  }
 ],
 "metadata": {
  "colab": {
   "collapsed_sections": [],
   "name": "Lesson_2.ipynb",
   "provenance": [],
   "toc_visible": true
  },
  "kernelspec": {
   "display_name": "Python 3 (ipykernel)",
   "language": "python",
   "name": "python3"
  },
  "language_info": {
   "codemirror_mode": {
    "name": "ipython",
    "version": 3
   },
   "file_extension": ".py",
   "mimetype": "text/x-python",
   "name": "python",
   "nbconvert_exporter": "python",
   "pygments_lexer": "ipython3",
   "version": "3.9.12"
  }
 },
 "nbformat": 4,
 "nbformat_minor": 1
}
